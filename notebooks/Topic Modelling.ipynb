{
 "cells": [
  {
   "cell_type": "code",
   "execution_count": 2,
   "id": "044982f7-762f-4109-b647-99698bcf8655",
   "metadata": {},
   "outputs": [],
   "source": [
    "# Import libraries\n",
    "\n",
    "import pandas as pd\n",
    "import numpy as np\n",
    "import matplotlib.pyplot as plt\n",
    "from pinecone.grpc import PineconeGRPC as Pinecone\n",
    "from config import pinecone_key\n",
    "from config import openai_key\n",
    "from sentence_transformers import SentenceTransformer\n",
    "from deep_translator import GoogleTranslator\n",
    "import torch\n",
    "import datamapplot"
   ]
  },
  {
   "cell_type": "code",
   "execution_count": 3,
   "id": "a3bbcf1f-09bd-47e5-8d46-3d9783b2ce85",
   "metadata": {},
   "outputs": [],
   "source": [
    "# Set the seed for reproducibility\n",
    "torch.manual_seed(42)\n",
    "np.random.seed(42)\n",
    "torch.cuda.manual_seed_all(42)\n",
    "\n",
    "# set the deterministic flag\n",
    "torch.backends.cudnn.deterministic = True\n",
    "torch.backends.cudnn.benchmark = False"
   ]
  },
  {
   "cell_type": "code",
   "execution_count": 4,
   "id": "93b069a0-6860-4489-84bc-4a39d2e19f88",
   "metadata": {},
   "outputs": [
    {
     "data": {
      "text/plain": [
       "0"
      ]
     },
     "execution_count": 4,
     "metadata": {},
     "output_type": "execute_result"
    }
   ],
   "source": [
    "# Determine the device\n",
    "\n",
    "device = torch.cuda.current_device() if torch.cuda.is_available() else \"cpu\"\n",
    "device"
   ]
  },
  {
   "cell_type": "code",
   "execution_count": 6,
   "id": "f369c24b-4087-4e6d-a704-d87396f8dc91",
   "metadata": {},
   "outputs": [],
   "source": [
    "# Get the data from pinecone\n",
    "pc = Pinecone(api_key=pinecone_key)\n",
    "\n",
    "# define the index\n",
    "index_name = \"loreal-sentiments-ke\"\n",
    "\n",
    "# Connect to the index\n",
    "index = pc.Index(index_name)\n",
    "\n",
    "# define the query\n",
    "query = \"Get all reviews for Dark spot corrector\" \n",
    "\n",
    "# Define the query embedding model\n",
    "query_embd_model = SentenceTransformer(\"all-MiniLM-L6-v2\")\n",
    "\n",
    "#embed the query\n",
    "xq = query_embd_model.encode(query).tolist()\n",
    "\n",
    "# get the results\n",
    "results = index.query(xq, top_k=1000, include_metadata=True, filter={\"$and\": [{\"product\": {\"$eq\": \"Garnier Even & Matte Dark Spot Corrector\"}},{\"sentiment_label\": {\"$eq\": \"negative\"}}]})"
   ]
  },
  {
   "cell_type": "code",
   "execution_count": 7,
   "id": "e9c98a1d-82c1-4acb-af60-0a3cc757407a",
   "metadata": {
    "scrolled": true
   },
   "outputs": [
    {
     "data": {
      "text/plain": [
       "[{'id': '4012',\n",
       "  'metadata': {'average_rating': 4.0,\n",
       "               'brand': 'Garnier',\n",
       "               'date': '05-09-2022',\n",
       "               'number_reviews': 562.0,\n",
       "               'price': 542.0,\n",
       "               'product': 'Garnier Even & Matte Dark Spot Corrector',\n",
       "               'review': \"Dark spot corrector.It didn't work for me\",\n",
       "               'sentiment_label': 'negative',\n",
       "               'sentiment_score': 0.8002731204032898,\n",
       "               'timestamp': 1652043600.0},\n",
       "  'score': 0.7512471,\n",
       "  'sparse_values': {'indices': [], 'values': []},\n",
       "  'values': []},\n",
       " {'id': '4300',\n",
       "  'metadata': {'average_rating': 4.0,\n",
       "               'brand': 'Garnier',\n",
       "               'date': '18-11-2021',\n",
       "               'number_reviews': 562.0,\n",
       "               'price': 542.0,\n",
       "               'product': 'Garnier Even & Matte Dark Spot Corrector',\n",
       "               'review': \"garnier even & matte dark spot corrector.It didn't \"\n",
       "                         'remove the dark spots after using it for almost 2 '\n",
       "                         'month now.',\n",
       "               'sentiment_label': 'negative',\n",
       "               'sentiment_score': 0.721706748008728,\n",
       "               'timestamp': 1637182800.0},\n",
       "  'score': 0.6921758,\n",
       "  'sparse_values': {'indices': [], 'values': []},\n",
       "  'values': []},\n",
       " {'id': '4045',\n",
       "  'metadata': {'average_rating': 4.0,\n",
       "               'brand': 'Garnier',\n",
       "               'date': '20-06-2022',\n",
       "               'number_reviews': 562.0,\n",
       "               'price': 542.0,\n",
       "               'product': 'Garnier Even & Matte Dark Spot Corrector',\n",
       "               'review': 'Dark spot corrector..Review after 24days of use. '\n",
       "                         \"What's up with the quantity¿?? Why not just use a \"\n",
       "                         'small tube then? If products quantity is little, '\n",
       "                         'using a big package just makes things worse. *It does '\n",
       "                         'nothing out of the ordinary that that the vitamin C '\n",
       "                         \"brightening serum can't do. Yes,it is a good product \"\n",
       "                         'but not a need for a skin care routine.',\n",
       "               'sentiment_label': 'negative',\n",
       "               'sentiment_score': 0.8530454039573669,\n",
       "               'timestamp': 1655672400.0},\n",
       "  'score': 0.6443466,\n",
       "  'sparse_values': {'indices': [], 'values': []},\n",
       "  'values': []},\n",
       " {'id': '4353',\n",
       "  'metadata': {'average_rating': 4.0,\n",
       "               'brand': 'Garnier',\n",
       "               'date': '25-08-2021',\n",
       "               'number_reviews': 562.0,\n",
       "               'price': 542.0,\n",
       "               'product': 'Garnier Even & Matte Dark Spot Corrector',\n",
       "               'review': 'doesnt work on the dark spots.Improve everything '\n",
       "                         \"about the product or abolish it, it didn't work on \"\n",
       "                         'me, not worth the money',\n",
       "               'sentiment_label': 'negative',\n",
       "               'sentiment_score': 0.8629408478736877,\n",
       "               'timestamp': 1629838800.0},\n",
       "  'score': 0.63205427,\n",
       "  'sparse_values': {'indices': [], 'values': []},\n",
       "  'values': []},\n",
       " {'id': '4082',\n",
       "  'metadata': {'average_rating': 4.0,\n",
       "               'brand': 'Garnier',\n",
       "               'date': '11-04-2022',\n",
       "               'number_reviews': 562.0,\n",
       "               'price': 542.0,\n",
       "               'product': 'Garnier Even & Matte Dark Spot Corrector',\n",
       "               'review': 'Overrated.Used a whole tube and my dark spots still '\n",
       "                         'stayed',\n",
       "               'sentiment_label': 'negative',\n",
       "               'sentiment_score': 0.8722785115242004,\n",
       "               'timestamp': 1667509200.0},\n",
       "  'score': 0.55655426,\n",
       "  'sparse_values': {'indices': [], 'values': []},\n",
       "  'values': []}]"
      ]
     },
     "execution_count": 7,
     "metadata": {},
     "output_type": "execute_result"
    }
   ],
   "source": [
    "results[\"matches\"][:5]"
   ]
  },
  {
   "cell_type": "code",
   "execution_count": 8,
   "id": "94372ece-6e4e-44cf-96c5-5b3bbb28b58d",
   "metadata": {},
   "outputs": [],
   "source": [
    "# Define function to get all reviews sentimets & date\n",
    "def get_metadata(results):\n",
    "\n",
    "    reviews = [r[\"metadata\"][\"review\"]for r in results[\"matches\"]]\n",
    "    dates = [r[\"metadata\"][\"date\"] for r in results[\"matches\"]]\n",
    "    sentiments = [r[\"metadata\"][\"sentiment_label\"] for r in results[\"matches\"]]\n",
    "\n",
    "    return reviews, dates, sentiments"
   ]
  },
  {
   "cell_type": "code",
   "execution_count": 9,
   "id": "2645673b-f487-4a5b-8ee0-b0301f4199d4",
   "metadata": {},
   "outputs": [
    {
     "data": {
      "text/plain": [
       "[\"Dark spot corrector.It didn't work for me\",\n",
       " \"garnier even & matte dark spot corrector.It didn't remove the dark spots after using it for almost 2 month now.\",\n",
       " \"Dark spot corrector..Review after 24days of use. What's up with the quantity¿?? Why not just use a small tube then? If products quantity is little, using a big package just makes things worse. *It does nothing out of the ordinary that that the vitamin C brightening serum can't do. Yes,it is a good product but not a need for a skin care routine.\",\n",
       " \"doesnt work on the dark spots.Improve everything about the product or abolish it, it didn't work on me, not worth the money\",\n",
       " 'Overrated.Used a whole tube and my dark spots still stayed',\n",
       " \"Overrated and expensive for nothing.It's simply overrated. Makes my face extra shiny and oily. I still have the dark spots even after using daily for over a month\",\n",
       " 'I feel confused about it.Not sure it will help remove dark spots ????????',\n",
       " 'Mixed feelings.I haven’t finished a tube yet, but so far it’s not yet changed any dark spots',\n",
       " \"spots corrector.It's not working immediately as indicated..am yet to see any changes.. almost 2 wks now\",\n",
       " 'Garner dark spot corrector.The content in the product is only ¼ in the tube the rest is empty. This is very bad !',\n",
       " 'still need to improve.To clear all the black spots coz have used it but still no change..',\n",
       " 'poor.Very little,,and does not fade darkspot after 1week as claimed..',\n",
       " 'clearing dark spots.It doesnt make the skin glow',\n",
       " 'needs improvement.Works well but does not remove spot completely',\n",
       " 'spot corrector.The potion is too small',\n",
       " 'Garnier even £matte.I have been using the product for several months now but I still have the dark marks caused by sunburns.  Make the product more efficient so that we can genuinely appreciate it.',\n",
       " \"bad product.Can't recommend someone to buy it\",\n",
       " 'Flawless skin.Reduces dark sport marks',\n",
       " 'be real.Its overrated,,,never cleared the spots',\n",
       " 'Not sure.Not so perfect because I still have dark marks. So I just use it as a moisturizer',\n",
       " \"1 WEEK .The black spots don't dissappear within a week or even month honestly\",\n",
       " \"Not as good as it is hyped..They say it removes spots in one week. Well, that's  a lie. It's been a week now still nothing. Let's wait for a month and see.\",\n",
       " \"Didn't work for me.I still have spots even after using it,,,na ni hewa tu imejazwa huko ndani\",\n",
       " 'I don’t know how to feel.I don’t know why but this product didn’t do much of anything for me. My scaring didn’t fade in the slightest. In fact I had more breakouts and rashes. I don’t know if it’s an issue of it not being genuine or if it’s something else but I wasn’t a fan. Also it was small and the quantity in the tube wasn’t great either.',\n",
       " \"It never worked for me.I've used it for almost four weeks now and I've not seen any change on my face\",\n",
       " \"I don't like it.Don't see change in my skin,waste of money\",\n",
       " 'Garnier.Reacted on my face big time and got me the grandest skin break out had to discontinue after 2 months of consistent usage. Always felt a burning sensation upon application.',\n",
       " \"garnier.It's not working on my face\",\n",
       " 'Results.Cant see much results as expected , works slowly',\n",
       " \"looks expired.i used it once on my face and the face turned whitish... can't give it a five star.  I think they sold me an expired item. ????\",\n",
       " 'I dont like it.It really gave me alot of rashes with the first two days applying on my face',\n",
       " 'it dont work!!.lol, this shit dont work. i have normal skin.used it diligently everyday twice a day. no changes whatsoever. i regret this purchase.',\n",
       " 'Bad.Gave me bad breakouts',\n",
       " 'Garnierdarkspot.Too expensive',\n",
       " 'Scam.There is nothing in this tube !!!\\r \\r Jumia you should be able to rate your vendors appropriately.\\r \\r I have bought on Jumia before but never been conned like this. I an totally disappointed and I guess Jumia you can do better',\n",
       " 'rectify.It did nothing it only added more pimples to my face',\n",
       " \"not impressed.The product doesn't give results within a week as it claims and again it's little inside compared to the amount it's going for .. sometimes garnier products are filled with air and the amount inside is very little..In the second week and it's almost over\",\n",
       " 'effectiveness of the product.Been 1 week and nothing. Improve on quantity also',\n",
       " 'not great on oily skin.No results relly',\n",
       " \"Garnier product.It didn't work well on my skin\",\n",
       " \"I don't like it.There is this shining residue that doesn't come in handy\",\n",
       " \"Not so bad.Has shinny particles that I don't like\",\n",
       " 'Too small no improvement.It was too small and I didn’t see any change',\n",
       " 'Not bad.Amount paid vs quantity are a scam,the product is too little considering how expensive it is,but the product itself is good.',\n",
       " 'it did not help.Make it more effective to all types of skins',\n",
       " \"Didn't work for me..i got pimples after applying on the 2nd day. Didn't work for me.\",\n",
       " \"doesnt work.It doesn't work at all guys The amount is little last you for one week max Severe pimples experienced after one week use\",\n",
       " \"Effectiveness.It doesn't work\",\n",
       " 'i dont like it.it leaves glitter like residue and it broke me out',\n",
       " \"I don't like it.Terrible mistake\",\n",
       " 'Dint work.Check the serum review. Vitamin c',\n",
       " 'Too early.Just bought yet to see any change.',\n",
       " 'Visible Changes.The product seems to be working but the tube is not even full not even ¾ full.',\n",
       " 'Received an already used product.Really disappointed...Almost empty tube!!',\n",
       " \"garnier.Doesn't work\",\n",
       " \"order hasn't been delivered.I ordered one week ago n it hasn't been delivered\",\n",
       " 'Yet to see the results.Too much air in the tube...',\n",
       " 'Not satisfied .Theres hardly nothing in it…. Just a tube with a wee cream',\n",
       " 'not good.Your tube   is just empty',\n",
       " 'poor.Not well sealed, looks like someone used it for a while',\n",
       " 'worst cream ever.Made my face rough',\n",
       " \"they can add a product to prevent sun rays.Didn't work on me\",\n",
       " 'real deal.Mattifies my oily face the whole day',\n",
       " 'small quantity and never works smh.Be authentic about it',\n",
       " 'hate it.Never works',\n",
       " \"I don't like it.Nothing in the tube. Jumia take time to verify your products. You can do better instead of selling air! I am really disappointed. I can't believe I purchased nothing and I tried to refund but it's not eligible. Thank you coz I now know better.\",\n",
       " 'i hate it.Worked for a week only',\n",
       " \"I don't like it.Product is expensive and very little inside\",\n",
       " 'Mixed feelings.Not so sure about it. Plus the product is too little.',\n",
       " 'Didnt work for me.Not what I expected  Alot of white residue after application',\n",
       " 'not worth it.Does not work as advertised',\n",
       " 'its not expencive.It favors my skin',\n",
       " 'made my face get even worse.Very small in quantity',\n",
       " 'I have mixed feelings about the product.requires a lot of patience for the results to show plus I think it came less than the indicated ml because tell me why have used it for 2wks, pea size amt, actually smaller than pea size, and it is done',\n",
       " 'burning sensation .It left some burnt patches on my face',\n",
       " 'not working.No results',\n",
       " 'good but its too little.At least fill up the tube I only used it for one week and it got finished.',\n",
       " 'try not to tamper with peoples delivery.Am not convinced by the delivery you guys bought today someone had tempered with it????',\n",
       " \"The ad isn't what it seems.The product leaves a white-pasty residue when it dries\",\n",
       " 'I like it.The product is nice but it’s very little..  3/4 of the bottle is empty filled with air and the rest 1/4 is the product (actually less than a 1/4) I feel cheated',\n",
       " \"terrible or fake.I don't know\",\n",
       " 'The product was almost used up..Its like the product was being used , because I applied it twice and its over, the tube was very much empty, so disappointed',\n",
       " 'avoid the air in the tube ..sucks.Smells so nice and worked for me  The content is so little tho????',\n",
       " \"I HATE it.The best thing inside is air . Doesn't work and the content is too little compared to the price ????????\",\n",
       " \"never works.Don't work\",\n",
       " 'made my skin become rough.Alot of air inside the tube',\n",
       " \"I don't like it.I didn't notice change.\",\n",
       " 'Received an empty product.Product had nothing inside!!! Stop scamming people.',\n",
       " 'stop posting with the box aside.You posted the product with its box aside. One may think when ordering you will get two products only to find its one and very small. This is called Misrepresentation. As how can you post a box aside. Very disappointed',\n",
       " \"Not good.Didn't do anything\",\n",
       " 'poor.no changes',\n",
       " 'fair.It does not work vile inasemwa',\n",
       " \"I HATE IT.Scam!!! Why are you selling empty bottles?! The content is less than 10ml!! DON'T BUY THIS PRODUCT!!!!\",\n",
       " \"It wasn't sealed well,thought they were two.Still confused hoping for the best\",\n",
       " \"i hate it.It doesn't work\",\n",
       " 'Does not work.Not what I expected',\n",
       " 'Somewhat like it.It is good quality but it did not work as I expected',\n",
       " \"I don't like it.Empty empty tube\",\n",
       " 'Dry skin.Not for dry skin',\n",
       " 'not delivered.Kindly send my package, I did not receive',\n",
       " 'Mixed feelings.Good product but please work on the amount in the tubes. Tube is half empty',\n",
       " \"Leaves white residue.I don't like it ..it leaves white residue\",\n",
       " 'no change at all.No change at all',\n",
       " \"Greatly Disappointed.The product came half full. The box was already torn. I don't get it jumia. If it's black Friday tell people if you're giving out products that are 1/4 full\",\n",
       " \"I don't like it.Literally burns the face.\",\n",
       " 'for it to be glitter free.It has too much glitters...& Not effective at all',\n",
       " 'Not for me.It burns my skin, I could be allergic',\n",
       " \"nope.Didn't work for me\",\n",
       " 'I like it but it was half empty.The product was half empty',\n",
       " 'quantity. It is very little and my face got a little pimples and I got 2',\n",
       " 'Like it.Less effective',\n",
       " 'Quantity was like two pinches.The lotion inside was so little ,I guess I was given a used one already!!',\n",
       " 'too little quantity..Considering  the price, the quantity inside was tooooo little. I was disappointed.',\n",
       " \"product.It's full of air and less product yet very expensive, you can improve on that\",\n",
       " \"you're dishonest.I used it for two days and it was over\",\n",
       " 'bad.It was half full',\n",
       " 'the product itself.Pack came open, this not encouraging',\n",
       " 'Amount.Reduce the price,,the bottle is almost empty',\n",
       " \"Glitters.Why does the product have glitters honestly The product also gives you rashes ,,you should have indicated that as a side effect of using it ,,I'm a bit scared\",\n",
       " 'Like it.But it was not even half the tube... Very little',\n",
       " \"Didn't work.Didn't work\",\n",
       " 'your products are used.My product is half empty total rip off',\n",
       " \"scum.Didn't work as expected\",\n",
       " 'Not original.Turned from cream to liquid, surely!!! I had stored it in my closet not anywhere near heat or sun !',\n",
       " 'The quantity was too little.Very little quantity compared to what’s written',\n",
       " 'Product empty.The product was empty inside',\n",
       " 'almost empty tube.Kindly the amount and the quantity do not match.not worth it',\n",
       " \"Nice.I dont understand why the bottle is more of air filled than the product itself....its so deceiving until you start using it...but works well if used consistently...but one bottle I can honestly say it won't be enough\",\n",
       " 'tube is too  small.Bigger please',\n",
       " 'I dont like it.Half empty',\n",
       " 'its ok.Buh the content is just quarter... Almost empty nkt!',\n",
       " \"More space than product.The product is great but there's more air than there is product in the tube which is disappointing. Needs transparent packaging\",\n",
       " 'Just as expected ????.Increase the amount.',\n",
       " 'hate this.The tube is air filled. Basically empty',\n",
       " 'disappoint.The tube is full of air',\n",
       " 'wanting.the quantity in the tube is wanting ......full of gas',\n",
       " 'too little.fill it more',\n",
       " 'add the volume.the content is so little',\n",
       " \"Half empty.This product has been filled with air. The content inside is less than half full. I'm disappointed in you ???? not good at all. This is robbery ????????\",\n",
       " 'soo small.Its not 30 ml maybe 10ml',\n",
       " 'empty tube.Only used it for 4 days and got finished.. The tube is full of air... Not worth it.',\n",
       " 'Almost empty.The tube is mostly air',\n",
       " \"its average.It's average.\",\n",
       " 'Error 500 (Server Error)!!1500.That’s an error.There was an error. Please try again later.That’s all we know.',\n",
       " 'rude.Be a little bit nice']"
      ]
     },
     "execution_count": 9,
     "metadata": {},
     "output_type": "execute_result"
    }
   ],
   "source": [
    "# get reviews \n",
    "reviews = get_metadata(results)[0]\n",
    "reviews"
   ]
  },
  {
   "cell_type": "code",
   "execution_count": 16,
   "id": "94830540-13da-470b-869b-afdf94774b7b",
   "metadata": {},
   "outputs": [],
   "source": [
    "#Topic Modelling"
   ]
  },
  {
   "cell_type": "code",
   "execution_count": 42,
   "id": "73865b15-6d76-4be1-ad3d-e62ee0078dfb",
   "metadata": {},
   "outputs": [
    {
     "data": {
      "application/vnd.jupyter.widget-view+json": {
       "model_id": "4416cfc3812646af95c9ec4d77966f09",
       "version_major": 2,
       "version_minor": 0
      },
      "text/plain": [
       "Batches:   0%|          | 0/5 [00:00<?, ?it/s]"
      ]
     },
     "metadata": {},
     "output_type": "display_data"
    }
   ],
   "source": [
    "import openai\n",
    "from bertopic import BERTopic\n",
    "from umap import UMAP\n",
    "from hdbscan import HDBSCAN\n",
    "from transformers import AutoTokenizer\n",
    "\n",
    "# Select the model\n",
    "model_id = \"BAAI/bge-small-en-v1.5\"\n",
    "\n",
    "# Define the tokenizer\n",
    "tokenizer = AutoTokenizer.from_pretrained(model_id, do_lower_case=True)\n",
    "\n",
    "#Define the embedding \n",
    "embed_model = SentenceTransformer(model_id, tokenizer, device=device)\n",
    "embeddings = embed_model.encode(reviews, show_progress_bar=True)\n",
    "\n",
    "# Define submodel\n",
    "umap_model = UMAP(n_neighbors=10, n_components=5, min_dist=0.0, metric=\"cosine\", random_state=42) # Dimesionality reduction\n",
    "hdbscan_model = HDBSCAN(min_cluster_size=25, metric=\"euclidean\", cluster_selection_method=\"eom\", prediction_data=True) # Clustering\n",
    "\n",
    "# Vectorizer\n",
    "from sklearn.feature_extraction.text import CountVectorizer\n",
    "vectorizer_model = CountVectorizer(stop_words=\"english\", ngram_range=(1,2), min_df=2)\n",
    "\n",
    "# reduce embedding\n",
    "reduced_embeddings = UMAP(n_neighbors=10, n_components=2, min_dist=0.0, metric='cosine', random_state=42).fit_transform(embeddings)"
   ]
  },
  {
   "cell_type": "code",
   "execution_count": 43,
   "id": "897de306-9dd5-45bc-bd17-39065eb4a830",
   "metadata": {},
   "outputs": [],
   "source": [
    "# representation\n",
    "from bertopic.representation import KeyBERTInspired, MaximalMarginalRelevance, PartOfSpeech, OpenAI\n",
    "\n",
    "#Keybert\n",
    "keybert_model = KeyBERTInspired()\n",
    "\n",
    "# Part of speech\n",
    "pos_model = PartOfSpeech(\"en_core_web_lg\")\n",
    "\n",
    "#mmr\n",
    "mmr_model = MaximalMarginalRelevance(diversity=0.3)\n",
    "\n",
    "#Create prompt\n",
    "prompt = \"\"\"\n",
    "You are an expert in natural language processing and topic modeling. Below is a topic extracted from a collection of documents:\n",
    "\n",
    "- Documents: [DOCUMENTS]\n",
    "\n",
    "The topic is described by the following keywords:\n",
    "\n",
    "- Keywords: [KEYWORDS]\n",
    "\n",
    "Your task is to generate a concise and highly descriptive topic label that accurately captures the essence of the documents. The label should be insightful, informative, and no more than 5 words long.\n",
    "\n",
    "Please format the output as:\n",
    "topic: <topic label>\n",
    "\"\"\"\n",
    "\n",
    "client = openai.OpenAI(api_key=openai_key)\n",
    "openai_model = OpenAI(client, model=\"gpt-3.5-turbo\", exponential_backoff=True, prompt=prompt,chat=True)\n",
    "\n",
    "#all representation model\n",
    "representation_model = {\n",
    "    \"KeyBert\": keybert_model,\n",
    "    \"OpenAI\": openai_model,\n",
    "    \"POS\": pos_model,\n",
    "    \"MMR\": mmr_model\n",
    "}"
   ]
  },
  {
   "cell_type": "code",
   "execution_count": 57,
   "id": "3e443ac5-b4a5-4a35-b149-e560f6025f2d",
   "metadata": {},
   "outputs": [
    {
     "name": "stderr",
     "output_type": "stream",
     "text": [
      "2024-08-08 16:58:56,470 - BERTopic - Dimensionality - Fitting the dimensionality reduction algorithm\n",
      "2024-08-08 16:58:58,249 - BERTopic - Dimensionality - Completed ✓\n",
      "2024-08-08 16:58:58,252 - BERTopic - Cluster - Start clustering the reduced embeddings\n",
      "2024-08-08 16:58:58,296 - BERTopic - Cluster - Completed ✓\n",
      "2024-08-08 16:58:58,317 - BERTopic - Representation - Extracting topics from clusters using representation models.\n",
      "100%|███████████████████████████████████████████████████████████████████████████████████████████████████████████████████████| 3/3 [00:03<00:00,  1.14s/it]\n",
      "2024-08-08 16:59:04,993 - BERTopic - Representation - Completed ✓\n"
     ]
    }
   ],
   "source": [
    "# Initialize bert model\n",
    "from bertopic import BERTopic\n",
    "\n",
    "topic_model = BERTopic(\n",
    "\n",
    "    #pipeline model\n",
    "    embedding_model=embed_model,\n",
    "    umap_model=umap_model,\n",
    "    hdbscan_model=hdbscan_model,\n",
    "    vectorizer_model=vectorizer_model, \n",
    "    representation_model=representation_model,\n",
    "\n",
    "    #Hyperparameter\n",
    "    top_n_words=10, \n",
    "    verbose=True, \n",
    "    calculate_probabilities=True,\n",
    "    n_gram_range=(1,3)\n",
    ")\n",
    "\n",
    "topics, probs = topic_model.fit_transform(reviews, embeddings)"
   ]
  },
  {
   "cell_type": "code",
   "execution_count": 58,
   "id": "d80aafed-6f92-4849-84a5-ac2859a98619",
   "metadata": {},
   "outputs": [
    {
     "data": {
      "text/html": [
       "<div>\n",
       "<style scoped>\n",
       "    .dataframe tbody tr th:only-of-type {\n",
       "        vertical-align: middle;\n",
       "    }\n",
       "\n",
       "    .dataframe tbody tr th {\n",
       "        vertical-align: top;\n",
       "    }\n",
       "\n",
       "    .dataframe thead th {\n",
       "        text-align: right;\n",
       "    }\n",
       "</style>\n",
       "<table border=\"1\" class=\"dataframe\">\n",
       "  <thead>\n",
       "    <tr style=\"text-align: right;\">\n",
       "      <th></th>\n",
       "      <th>Topic</th>\n",
       "      <th>Count</th>\n",
       "      <th>Name</th>\n",
       "      <th>Representation</th>\n",
       "      <th>KeyBert</th>\n",
       "      <th>OpenAI</th>\n",
       "      <th>POS</th>\n",
       "      <th>MMR</th>\n",
       "      <th>Representative_Docs</th>\n",
       "    </tr>\n",
       "  </thead>\n",
       "  <tbody>\n",
       "    <tr>\n",
       "      <th>0</th>\n",
       "      <td>-1</td>\n",
       "      <td>18</td>\n",
       "      <td>-1_work_didn_didn work_work expected</td>\n",
       "      <td>[work, didn, didn work, work expected, doesn w...</td>\n",
       "      <td>[didn work, doesn work, works, didn, worked, d...</td>\n",
       "      <td>[Dissatisfaction with Product Effectiveness]</td>\n",
       "      <td>[good, worth, expensive, results, week, face, ...</td>\n",
       "      <td>[work, didn work, work expected, hate, doesn, ...</td>\n",
       "      <td>[Didn't work.Didn't work, nope.Didn't work for...</td>\n",
       "    </tr>\n",
       "    <tr>\n",
       "      <th>1</th>\n",
       "      <td>0</td>\n",
       "      <td>64</td>\n",
       "      <td>0_face_dark_didn_work</td>\n",
       "      <td>[face, dark, didn, work, don, week, like, don ...</td>\n",
       "      <td>[dark spot, spot corrector, dark, doesn work, ...</td>\n",
       "      <td>[Dark spot corrector effectiveness]</td>\n",
       "      <td>[dark, face, week, product, small, corrector, ...</td>\n",
       "      <td>[face, dark, don like, didn work, garnier, spo...</td>\n",
       "      <td>[Dark spot corrector..Review after 24days of u...</td>\n",
       "    </tr>\n",
       "    <tr>\n",
       "      <th>2</th>\n",
       "      <td>1</td>\n",
       "      <td>63</td>\n",
       "      <td>1_product_tube_little_air</td>\n",
       "      <td>[product, tube, little, air, used, like, quant...</td>\n",
       "      <td>[small quantity, quantity tube, quantity littl...</td>\n",
       "      <td>[Product Quantity Dissatisfaction]</td>\n",
       "      <td>[product, tube, little, air, quantity, good, p...</td>\n",
       "      <td>[tube, little, used, like, quantity, products,...</td>\n",
       "      <td>[Not bad.Amount paid vs quantity are a scam,th...</td>\n",
       "    </tr>\n",
       "  </tbody>\n",
       "</table>\n",
       "</div>"
      ],
      "text/plain": [
       "   Topic  Count                                  Name  \\\n",
       "0     -1     18  -1_work_didn_didn work_work expected   \n",
       "1      0     64                 0_face_dark_didn_work   \n",
       "2      1     63             1_product_tube_little_air   \n",
       "\n",
       "                                      Representation  \\\n",
       "0  [work, didn, didn work, work expected, doesn w...   \n",
       "1  [face, dark, didn, work, don, week, like, don ...   \n",
       "2  [product, tube, little, air, used, like, quant...   \n",
       "\n",
       "                                             KeyBert  \\\n",
       "0  [didn work, doesn work, works, didn, worked, d...   \n",
       "1  [dark spot, spot corrector, dark, doesn work, ...   \n",
       "2  [small quantity, quantity tube, quantity littl...   \n",
       "\n",
       "                                         OpenAI  \\\n",
       "0  [Dissatisfaction with Product Effectiveness]   \n",
       "1           [Dark spot corrector effectiveness]   \n",
       "2            [Product Quantity Dissatisfaction]   \n",
       "\n",
       "                                                 POS  \\\n",
       "0  [good, worth, expensive, results, week, face, ...   \n",
       "1  [dark, face, week, product, small, corrector, ...   \n",
       "2  [product, tube, little, air, quantity, good, p...   \n",
       "\n",
       "                                                 MMR  \\\n",
       "0  [work, didn work, work expected, hate, doesn, ...   \n",
       "1  [face, dark, don like, didn work, garnier, spo...   \n",
       "2  [tube, little, used, like, quantity, products,...   \n",
       "\n",
       "                                 Representative_Docs  \n",
       "0  [Didn't work.Didn't work, nope.Didn't work for...  \n",
       "1  [Dark spot corrector..Review after 24days of u...  \n",
       "2  [Not bad.Amount paid vs quantity are a scam,th...  "
      ]
     },
     "execution_count": 58,
     "metadata": {},
     "output_type": "execute_result"
    }
   ],
   "source": [
    "topic_model.get_topic_info()"
   ]
  },
  {
   "cell_type": "code",
   "execution_count": 59,
   "id": "973bed1b-fbb1-4696-baed-113aa3316594",
   "metadata": {},
   "outputs": [
    {
     "data": {
      "application/vnd.plotly.v1+json": {
       "config": {
        "plotlyServerURL": "https://plot.ly"
       },
       "data": [
        {
         "marker": {
          "color": "#D55E00"
         },
         "orientation": "h",
         "type": "bar",
         "x": [
          0.10290669187495854,
          0.10294586918084206,
          0.10721512749597661,
          0.1243939305835838,
          0.1243939305835838
         ],
         "xaxis": "x",
         "y": [
          "don  ",
          "work  ",
          "didn  ",
          "dark  ",
          "face  "
         ],
         "yaxis": "y"
        },
        {
         "marker": {
          "color": "#0072B2"
         },
         "orientation": "h",
         "type": "bar",
         "x": [
          0.11320341357382051,
          0.13687359341227695,
          0.14366149114848273,
          0.19060159225886064,
          0.21202976726868994
         ],
         "xaxis": "x2",
         "y": [
          "used  ",
          "air  ",
          "little  ",
          "tube  ",
          "product  "
         ],
         "yaxis": "y2"
        }
       ],
       "layout": {
        "annotations": [
         {
          "font": {
           "size": 16
          },
          "showarrow": false,
          "text": "Topic 0",
          "x": 0.0875,
          "xanchor": "center",
          "xref": "paper",
          "y": 1,
          "yanchor": "bottom",
          "yref": "paper"
         },
         {
          "font": {
           "size": 16
          },
          "showarrow": false,
          "text": "Topic 1",
          "x": 0.36250000000000004,
          "xanchor": "center",
          "xref": "paper",
          "y": 1,
          "yanchor": "bottom",
          "yref": "paper"
         }
        ],
        "height": 325,
        "hoverlabel": {
         "bgcolor": "white",
         "font": {
          "family": "Rockwell",
          "size": 16
         }
        },
        "showlegend": false,
        "template": {
         "data": {
          "bar": [
           {
            "error_x": {
             "color": "#2a3f5f"
            },
            "error_y": {
             "color": "#2a3f5f"
            },
            "marker": {
             "line": {
              "color": "white",
              "width": 0.5
             },
             "pattern": {
              "fillmode": "overlay",
              "size": 10,
              "solidity": 0.2
             }
            },
            "type": "bar"
           }
          ],
          "barpolar": [
           {
            "marker": {
             "line": {
              "color": "white",
              "width": 0.5
             },
             "pattern": {
              "fillmode": "overlay",
              "size": 10,
              "solidity": 0.2
             }
            },
            "type": "barpolar"
           }
          ],
          "carpet": [
           {
            "aaxis": {
             "endlinecolor": "#2a3f5f",
             "gridcolor": "#C8D4E3",
             "linecolor": "#C8D4E3",
             "minorgridcolor": "#C8D4E3",
             "startlinecolor": "#2a3f5f"
            },
            "baxis": {
             "endlinecolor": "#2a3f5f",
             "gridcolor": "#C8D4E3",
             "linecolor": "#C8D4E3",
             "minorgridcolor": "#C8D4E3",
             "startlinecolor": "#2a3f5f"
            },
            "type": "carpet"
           }
          ],
          "choropleth": [
           {
            "colorbar": {
             "outlinewidth": 0,
             "ticks": ""
            },
            "type": "choropleth"
           }
          ],
          "contour": [
           {
            "colorbar": {
             "outlinewidth": 0,
             "ticks": ""
            },
            "colorscale": [
             [
              0,
              "#0d0887"
             ],
             [
              0.1111111111111111,
              "#46039f"
             ],
             [
              0.2222222222222222,
              "#7201a8"
             ],
             [
              0.3333333333333333,
              "#9c179e"
             ],
             [
              0.4444444444444444,
              "#bd3786"
             ],
             [
              0.5555555555555556,
              "#d8576b"
             ],
             [
              0.6666666666666666,
              "#ed7953"
             ],
             [
              0.7777777777777778,
              "#fb9f3a"
             ],
             [
              0.8888888888888888,
              "#fdca26"
             ],
             [
              1,
              "#f0f921"
             ]
            ],
            "type": "contour"
           }
          ],
          "contourcarpet": [
           {
            "colorbar": {
             "outlinewidth": 0,
             "ticks": ""
            },
            "type": "contourcarpet"
           }
          ],
          "heatmap": [
           {
            "colorbar": {
             "outlinewidth": 0,
             "ticks": ""
            },
            "colorscale": [
             [
              0,
              "#0d0887"
             ],
             [
              0.1111111111111111,
              "#46039f"
             ],
             [
              0.2222222222222222,
              "#7201a8"
             ],
             [
              0.3333333333333333,
              "#9c179e"
             ],
             [
              0.4444444444444444,
              "#bd3786"
             ],
             [
              0.5555555555555556,
              "#d8576b"
             ],
             [
              0.6666666666666666,
              "#ed7953"
             ],
             [
              0.7777777777777778,
              "#fb9f3a"
             ],
             [
              0.8888888888888888,
              "#fdca26"
             ],
             [
              1,
              "#f0f921"
             ]
            ],
            "type": "heatmap"
           }
          ],
          "heatmapgl": [
           {
            "colorbar": {
             "outlinewidth": 0,
             "ticks": ""
            },
            "colorscale": [
             [
              0,
              "#0d0887"
             ],
             [
              0.1111111111111111,
              "#46039f"
             ],
             [
              0.2222222222222222,
              "#7201a8"
             ],
             [
              0.3333333333333333,
              "#9c179e"
             ],
             [
              0.4444444444444444,
              "#bd3786"
             ],
             [
              0.5555555555555556,
              "#d8576b"
             ],
             [
              0.6666666666666666,
              "#ed7953"
             ],
             [
              0.7777777777777778,
              "#fb9f3a"
             ],
             [
              0.8888888888888888,
              "#fdca26"
             ],
             [
              1,
              "#f0f921"
             ]
            ],
            "type": "heatmapgl"
           }
          ],
          "histogram": [
           {
            "marker": {
             "pattern": {
              "fillmode": "overlay",
              "size": 10,
              "solidity": 0.2
             }
            },
            "type": "histogram"
           }
          ],
          "histogram2d": [
           {
            "colorbar": {
             "outlinewidth": 0,
             "ticks": ""
            },
            "colorscale": [
             [
              0,
              "#0d0887"
             ],
             [
              0.1111111111111111,
              "#46039f"
             ],
             [
              0.2222222222222222,
              "#7201a8"
             ],
             [
              0.3333333333333333,
              "#9c179e"
             ],
             [
              0.4444444444444444,
              "#bd3786"
             ],
             [
              0.5555555555555556,
              "#d8576b"
             ],
             [
              0.6666666666666666,
              "#ed7953"
             ],
             [
              0.7777777777777778,
              "#fb9f3a"
             ],
             [
              0.8888888888888888,
              "#fdca26"
             ],
             [
              1,
              "#f0f921"
             ]
            ],
            "type": "histogram2d"
           }
          ],
          "histogram2dcontour": [
           {
            "colorbar": {
             "outlinewidth": 0,
             "ticks": ""
            },
            "colorscale": [
             [
              0,
              "#0d0887"
             ],
             [
              0.1111111111111111,
              "#46039f"
             ],
             [
              0.2222222222222222,
              "#7201a8"
             ],
             [
              0.3333333333333333,
              "#9c179e"
             ],
             [
              0.4444444444444444,
              "#bd3786"
             ],
             [
              0.5555555555555556,
              "#d8576b"
             ],
             [
              0.6666666666666666,
              "#ed7953"
             ],
             [
              0.7777777777777778,
              "#fb9f3a"
             ],
             [
              0.8888888888888888,
              "#fdca26"
             ],
             [
              1,
              "#f0f921"
             ]
            ],
            "type": "histogram2dcontour"
           }
          ],
          "mesh3d": [
           {
            "colorbar": {
             "outlinewidth": 0,
             "ticks": ""
            },
            "type": "mesh3d"
           }
          ],
          "parcoords": [
           {
            "line": {
             "colorbar": {
              "outlinewidth": 0,
              "ticks": ""
             }
            },
            "type": "parcoords"
           }
          ],
          "pie": [
           {
            "automargin": true,
            "type": "pie"
           }
          ],
          "scatter": [
           {
            "fillpattern": {
             "fillmode": "overlay",
             "size": 10,
             "solidity": 0.2
            },
            "type": "scatter"
           }
          ],
          "scatter3d": [
           {
            "line": {
             "colorbar": {
              "outlinewidth": 0,
              "ticks": ""
             }
            },
            "marker": {
             "colorbar": {
              "outlinewidth": 0,
              "ticks": ""
             }
            },
            "type": "scatter3d"
           }
          ],
          "scattercarpet": [
           {
            "marker": {
             "colorbar": {
              "outlinewidth": 0,
              "ticks": ""
             }
            },
            "type": "scattercarpet"
           }
          ],
          "scattergeo": [
           {
            "marker": {
             "colorbar": {
              "outlinewidth": 0,
              "ticks": ""
             }
            },
            "type": "scattergeo"
           }
          ],
          "scattergl": [
           {
            "marker": {
             "colorbar": {
              "outlinewidth": 0,
              "ticks": ""
             }
            },
            "type": "scattergl"
           }
          ],
          "scattermapbox": [
           {
            "marker": {
             "colorbar": {
              "outlinewidth": 0,
              "ticks": ""
             }
            },
            "type": "scattermapbox"
           }
          ],
          "scatterpolar": [
           {
            "marker": {
             "colorbar": {
              "outlinewidth": 0,
              "ticks": ""
             }
            },
            "type": "scatterpolar"
           }
          ],
          "scatterpolargl": [
           {
            "marker": {
             "colorbar": {
              "outlinewidth": 0,
              "ticks": ""
             }
            },
            "type": "scatterpolargl"
           }
          ],
          "scatterternary": [
           {
            "marker": {
             "colorbar": {
              "outlinewidth": 0,
              "ticks": ""
             }
            },
            "type": "scatterternary"
           }
          ],
          "surface": [
           {
            "colorbar": {
             "outlinewidth": 0,
             "ticks": ""
            },
            "colorscale": [
             [
              0,
              "#0d0887"
             ],
             [
              0.1111111111111111,
              "#46039f"
             ],
             [
              0.2222222222222222,
              "#7201a8"
             ],
             [
              0.3333333333333333,
              "#9c179e"
             ],
             [
              0.4444444444444444,
              "#bd3786"
             ],
             [
              0.5555555555555556,
              "#d8576b"
             ],
             [
              0.6666666666666666,
              "#ed7953"
             ],
             [
              0.7777777777777778,
              "#fb9f3a"
             ],
             [
              0.8888888888888888,
              "#fdca26"
             ],
             [
              1,
              "#f0f921"
             ]
            ],
            "type": "surface"
           }
          ],
          "table": [
           {
            "cells": {
             "fill": {
              "color": "#EBF0F8"
             },
             "line": {
              "color": "white"
             }
            },
            "header": {
             "fill": {
              "color": "#C8D4E3"
             },
             "line": {
              "color": "white"
             }
            },
            "type": "table"
           }
          ]
         },
         "layout": {
          "annotationdefaults": {
           "arrowcolor": "#2a3f5f",
           "arrowhead": 0,
           "arrowwidth": 1
          },
          "autotypenumbers": "strict",
          "coloraxis": {
           "colorbar": {
            "outlinewidth": 0,
            "ticks": ""
           }
          },
          "colorscale": {
           "diverging": [
            [
             0,
             "#8e0152"
            ],
            [
             0.1,
             "#c51b7d"
            ],
            [
             0.2,
             "#de77ae"
            ],
            [
             0.3,
             "#f1b6da"
            ],
            [
             0.4,
             "#fde0ef"
            ],
            [
             0.5,
             "#f7f7f7"
            ],
            [
             0.6,
             "#e6f5d0"
            ],
            [
             0.7,
             "#b8e186"
            ],
            [
             0.8,
             "#7fbc41"
            ],
            [
             0.9,
             "#4d9221"
            ],
            [
             1,
             "#276419"
            ]
           ],
           "sequential": [
            [
             0,
             "#0d0887"
            ],
            [
             0.1111111111111111,
             "#46039f"
            ],
            [
             0.2222222222222222,
             "#7201a8"
            ],
            [
             0.3333333333333333,
             "#9c179e"
            ],
            [
             0.4444444444444444,
             "#bd3786"
            ],
            [
             0.5555555555555556,
             "#d8576b"
            ],
            [
             0.6666666666666666,
             "#ed7953"
            ],
            [
             0.7777777777777778,
             "#fb9f3a"
            ],
            [
             0.8888888888888888,
             "#fdca26"
            ],
            [
             1,
             "#f0f921"
            ]
           ],
           "sequentialminus": [
            [
             0,
             "#0d0887"
            ],
            [
             0.1111111111111111,
             "#46039f"
            ],
            [
             0.2222222222222222,
             "#7201a8"
            ],
            [
             0.3333333333333333,
             "#9c179e"
            ],
            [
             0.4444444444444444,
             "#bd3786"
            ],
            [
             0.5555555555555556,
             "#d8576b"
            ],
            [
             0.6666666666666666,
             "#ed7953"
            ],
            [
             0.7777777777777778,
             "#fb9f3a"
            ],
            [
             0.8888888888888888,
             "#fdca26"
            ],
            [
             1,
             "#f0f921"
            ]
           ]
          },
          "colorway": [
           "#636efa",
           "#EF553B",
           "#00cc96",
           "#ab63fa",
           "#FFA15A",
           "#19d3f3",
           "#FF6692",
           "#B6E880",
           "#FF97FF",
           "#FECB52"
          ],
          "font": {
           "color": "#2a3f5f"
          },
          "geo": {
           "bgcolor": "white",
           "lakecolor": "white",
           "landcolor": "white",
           "showlakes": true,
           "showland": true,
           "subunitcolor": "#C8D4E3"
          },
          "hoverlabel": {
           "align": "left"
          },
          "hovermode": "closest",
          "mapbox": {
           "style": "light"
          },
          "paper_bgcolor": "white",
          "plot_bgcolor": "white",
          "polar": {
           "angularaxis": {
            "gridcolor": "#EBF0F8",
            "linecolor": "#EBF0F8",
            "ticks": ""
           },
           "bgcolor": "white",
           "radialaxis": {
            "gridcolor": "#EBF0F8",
            "linecolor": "#EBF0F8",
            "ticks": ""
           }
          },
          "scene": {
           "xaxis": {
            "backgroundcolor": "white",
            "gridcolor": "#DFE8F3",
            "gridwidth": 2,
            "linecolor": "#EBF0F8",
            "showbackground": true,
            "ticks": "",
            "zerolinecolor": "#EBF0F8"
           },
           "yaxis": {
            "backgroundcolor": "white",
            "gridcolor": "#DFE8F3",
            "gridwidth": 2,
            "linecolor": "#EBF0F8",
            "showbackground": true,
            "ticks": "",
            "zerolinecolor": "#EBF0F8"
           },
           "zaxis": {
            "backgroundcolor": "white",
            "gridcolor": "#DFE8F3",
            "gridwidth": 2,
            "linecolor": "#EBF0F8",
            "showbackground": true,
            "ticks": "",
            "zerolinecolor": "#EBF0F8"
           }
          },
          "shapedefaults": {
           "line": {
            "color": "#2a3f5f"
           }
          },
          "ternary": {
           "aaxis": {
            "gridcolor": "#DFE8F3",
            "linecolor": "#A2B1C6",
            "ticks": ""
           },
           "baxis": {
            "gridcolor": "#DFE8F3",
            "linecolor": "#A2B1C6",
            "ticks": ""
           },
           "bgcolor": "white",
           "caxis": {
            "gridcolor": "#DFE8F3",
            "linecolor": "#A2B1C6",
            "ticks": ""
           }
          },
          "title": {
           "x": 0.05
          },
          "xaxis": {
           "automargin": true,
           "gridcolor": "#EBF0F8",
           "linecolor": "#EBF0F8",
           "ticks": "",
           "title": {
            "standoff": 15
           },
           "zerolinecolor": "#EBF0F8",
           "zerolinewidth": 2
          },
          "yaxis": {
           "automargin": true,
           "gridcolor": "#EBF0F8",
           "linecolor": "#EBF0F8",
           "ticks": "",
           "title": {
            "standoff": 15
           },
           "zerolinecolor": "#EBF0F8",
           "zerolinewidth": 2
          }
         }
        },
        "title": {
         "font": {
          "color": "Black",
          "size": 22
         },
         "text": "Topic Word Scores",
         "x": 0.5,
         "xanchor": "center",
         "yanchor": "top"
        },
        "width": 1000,
        "xaxis": {
         "anchor": "y",
         "autorange": true,
         "domain": [
          0,
          0.175
         ],
         "range": [
          0,
          0.13094097956166717
         ],
         "showgrid": true,
         "type": "linear"
        },
        "xaxis2": {
         "anchor": "y2",
         "autorange": true,
         "domain": [
          0.275,
          0.45
         ],
         "range": [
          0,
          0.22318922870388413
         ],
         "showgrid": true,
         "type": "linear"
        },
        "xaxis3": {
         "anchor": "y3",
         "domain": [
          0.55,
          0.7250000000000001
         ],
         "showgrid": true
        },
        "xaxis4": {
         "anchor": "y4",
         "domain": [
          0.825,
          1
         ],
         "showgrid": true
        },
        "yaxis": {
         "anchor": "x",
         "autorange": true,
         "domain": [
          0,
          1
         ],
         "range": [
          -0.5,
          4.5
         ],
         "showgrid": true,
         "type": "category"
        },
        "yaxis2": {
         "anchor": "x2",
         "autorange": true,
         "domain": [
          0,
          1
         ],
         "range": [
          -0.5,
          4.5
         ],
         "showgrid": true,
         "type": "category"
        },
        "yaxis3": {
         "anchor": "x3",
         "domain": [
          0,
          1
         ],
         "showgrid": true
        },
        "yaxis4": {
         "anchor": "x4",
         "domain": [
          0,
          1
         ],
         "showgrid": true
        }
       }
      },
      "image/png": "[encoded data removed]",
      "text/html": [
       "<div>                            <div id=\"ff89de0a-4405-4fbd-8ccb-5d3bda84c578\" class=\"plotly-graph-div\" style=\"height:325.0px; width:1000px;\"></div>            <script type=\"text/javascript\">                require([\"plotly\"], function(Plotly) {                    window.PLOTLYENV=window.PLOTLYENV || {};                                    if (document.getElementById(\"ff89de0a-4405-4fbd-8ccb-5d3bda84c578\")) {                    Plotly.newPlot(                        \"ff89de0a-4405-4fbd-8ccb-5d3bda84c578\",                        [{\"marker\":{\"color\":\"#D55E00\"},\"orientation\":\"h\",\"x\":[0.10290669187495854,0.10294586918084206,0.10721512749597661,0.1243939305835838,0.1243939305835838],\"y\":[\"don  \",\"work  \",\"didn  \",\"dark  \",\"face  \"],\"type\":\"bar\",\"xaxis\":\"x\",\"yaxis\":\"y\"},{\"marker\":{\"color\":\"#0072B2\"},\"orientation\":\"h\",\"x\":[0.11320341357382051,0.13687359341227695,0.14366149114848273,0.19060159225886064,0.21202976726868994],\"y\":[\"used  \",\"air  \",\"little  \",\"tube  \",\"product  \"],\"type\":\"bar\",\"xaxis\":\"x2\",\"yaxis\":\"y2\"}],                        {\"template\":{\"data\":{\"barpolar\":[{\"marker\":{\"line\":{\"color\":\"white\",\"width\":0.5},\"pattern\":{\"fillmode\":\"overlay\",\"size\":10,\"solidity\":0.2}},\"type\":\"barpolar\"}],\"bar\":[{\"error_x\":{\"color\":\"#2a3f5f\"},\"error_y\":{\"color\":\"#2a3f5f\"},\"marker\":{\"line\":{\"color\":\"white\",\"width\":0.5},\"pattern\":{\"fillmode\":\"overlay\",\"size\":10,\"solidity\":0.2}},\"type\":\"bar\"}],\"carpet\":[{\"aaxis\":{\"endlinecolor\":\"#2a3f5f\",\"gridcolor\":\"#C8D4E3\",\"linecolor\":\"#C8D4E3\",\"minorgridcolor\":\"#C8D4E3\",\"startlinecolor\":\"#2a3f5f\"},\"baxis\":{\"endlinecolor\":\"#2a3f5f\",\"gridcolor\":\"#C8D4E3\",\"linecolor\":\"#C8D4E3\",\"minorgridcolor\":\"#C8D4E3\",\"startlinecolor\":\"#2a3f5f\"},\"type\":\"carpet\"}],\"choropleth\":[{\"colorbar\":{\"outlinewidth\":0,\"ticks\":\"\"},\"type\":\"choropleth\"}],\"contourcarpet\":[{\"colorbar\":{\"outlinewidth\":0,\"ticks\":\"\"},\"type\":\"contourcarpet\"}],\"contour\":[{\"colorbar\":{\"outlinewidth\":0,\"ticks\":\"\"},\"colorscale\":[[0.0,\"#0d0887\"],[0.1111111111111111,\"#46039f\"],[0.2222222222222222,\"#7201a8\"],[0.3333333333333333,\"#9c179e\"],[0.4444444444444444,\"#bd3786\"],[0.5555555555555556,\"#d8576b\"],[0.6666666666666666,\"#ed7953\"],[0.7777777777777778,\"#fb9f3a\"],[0.8888888888888888,\"#fdca26\"],[1.0,\"#f0f921\"]],\"type\":\"contour\"}],\"heatmapgl\":[{\"colorbar\":{\"outlinewidth\":0,\"ticks\":\"\"},\"colorscale\":[[0.0,\"#0d0887\"],[0.1111111111111111,\"#46039f\"],[0.2222222222222222,\"#7201a8\"],[0.3333333333333333,\"#9c179e\"],[0.4444444444444444,\"#bd3786\"],[0.5555555555555556,\"#d8576b\"],[0.6666666666666666,\"#ed7953\"],[0.7777777777777778,\"#fb9f3a\"],[0.8888888888888888,\"#fdca26\"],[1.0,\"#f0f921\"]],\"type\":\"heatmapgl\"}],\"heatmap\":[{\"colorbar\":{\"outlinewidth\":0,\"ticks\":\"\"},\"colorscale\":[[0.0,\"#0d0887\"],[0.1111111111111111,\"#46039f\"],[0.2222222222222222,\"#7201a8\"],[0.3333333333333333,\"#9c179e\"],[0.4444444444444444,\"#bd3786\"],[0.5555555555555556,\"#d8576b\"],[0.6666666666666666,\"#ed7953\"],[0.7777777777777778,\"#fb9f3a\"],[0.8888888888888888,\"#fdca26\"],[1.0,\"#f0f921\"]],\"type\":\"heatmap\"}],\"histogram2dcontour\":[{\"colorbar\":{\"outlinewidth\":0,\"ticks\":\"\"},\"colorscale\":[[0.0,\"#0d0887\"],[0.1111111111111111,\"#46039f\"],[0.2222222222222222,\"#7201a8\"],[0.3333333333333333,\"#9c179e\"],[0.4444444444444444,\"#bd3786\"],[0.5555555555555556,\"#d8576b\"],[0.6666666666666666,\"#ed7953\"],[0.7777777777777778,\"#fb9f3a\"],[0.8888888888888888,\"#fdca26\"],[1.0,\"#f0f921\"]],\"type\":\"histogram2dcontour\"}],\"histogram2d\":[{\"colorbar\":{\"outlinewidth\":0,\"ticks\":\"\"},\"colorscale\":[[0.0,\"#0d0887\"],[0.1111111111111111,\"#46039f\"],[0.2222222222222222,\"#7201a8\"],[0.3333333333333333,\"#9c179e\"],[0.4444444444444444,\"#bd3786\"],[0.5555555555555556,\"#d8576b\"],[0.6666666666666666,\"#ed7953\"],[0.7777777777777778,\"#fb9f3a\"],[0.8888888888888888,\"#fdca26\"],[1.0,\"#f0f921\"]],\"type\":\"histogram2d\"}],\"histogram\":[{\"marker\":{\"pattern\":{\"fillmode\":\"overlay\",\"size\":10,\"solidity\":0.2}},\"type\":\"histogram\"}],\"mesh3d\":[{\"colorbar\":{\"outlinewidth\":0,\"ticks\":\"\"},\"type\":\"mesh3d\"}],\"parcoords\":[{\"line\":{\"colorbar\":{\"outlinewidth\":0,\"ticks\":\"\"}},\"type\":\"parcoords\"}],\"pie\":[{\"automargin\":true,\"type\":\"pie\"}],\"scatter3d\":[{\"line\":{\"colorbar\":{\"outlinewidth\":0,\"ticks\":\"\"}},\"marker\":{\"colorbar\":{\"outlinewidth\":0,\"ticks\":\"\"}},\"type\":\"scatter3d\"}],\"scattercarpet\":[{\"marker\":{\"colorbar\":{\"outlinewidth\":0,\"ticks\":\"\"}},\"type\":\"scattercarpet\"}],\"scattergeo\":[{\"marker\":{\"colorbar\":{\"outlinewidth\":0,\"ticks\":\"\"}},\"type\":\"scattergeo\"}],\"scattergl\":[{\"marker\":{\"colorbar\":{\"outlinewidth\":0,\"ticks\":\"\"}},\"type\":\"scattergl\"}],\"scattermapbox\":[{\"marker\":{\"colorbar\":{\"outlinewidth\":0,\"ticks\":\"\"}},\"type\":\"scattermapbox\"}],\"scatterpolargl\":[{\"marker\":{\"colorbar\":{\"outlinewidth\":0,\"ticks\":\"\"}},\"type\":\"scatterpolargl\"}],\"scatterpolar\":[{\"marker\":{\"colorbar\":{\"outlinewidth\":0,\"ticks\":\"\"}},\"type\":\"scatterpolar\"}],\"scatter\":[{\"fillpattern\":{\"fillmode\":\"overlay\",\"size\":10,\"solidity\":0.2},\"type\":\"scatter\"}],\"scatterternary\":[{\"marker\":{\"colorbar\":{\"outlinewidth\":0,\"ticks\":\"\"}},\"type\":\"scatterternary\"}],\"surface\":[{\"colorbar\":{\"outlinewidth\":0,\"ticks\":\"\"},\"colorscale\":[[0.0,\"#0d0887\"],[0.1111111111111111,\"#46039f\"],[0.2222222222222222,\"#7201a8\"],[0.3333333333333333,\"#9c179e\"],[0.4444444444444444,\"#bd3786\"],[0.5555555555555556,\"#d8576b\"],[0.6666666666666666,\"#ed7953\"],[0.7777777777777778,\"#fb9f3a\"],[0.8888888888888888,\"#fdca26\"],[1.0,\"#f0f921\"]],\"type\":\"surface\"}],\"table\":[{\"cells\":{\"fill\":{\"color\":\"#EBF0F8\"},\"line\":{\"color\":\"white\"}},\"header\":{\"fill\":{\"color\":\"#C8D4E3\"},\"line\":{\"color\":\"white\"}},\"type\":\"table\"}]},\"layout\":{\"annotationdefaults\":{\"arrowcolor\":\"#2a3f5f\",\"arrowhead\":0,\"arrowwidth\":1},\"autotypenumbers\":\"strict\",\"coloraxis\":{\"colorbar\":{\"outlinewidth\":0,\"ticks\":\"\"}},\"colorscale\":{\"diverging\":[[0,\"#8e0152\"],[0.1,\"#c51b7d\"],[0.2,\"#de77ae\"],[0.3,\"#f1b6da\"],[0.4,\"#fde0ef\"],[0.5,\"#f7f7f7\"],[0.6,\"#e6f5d0\"],[0.7,\"#b8e186\"],[0.8,\"#7fbc41\"],[0.9,\"#4d9221\"],[1,\"#276419\"]],\"sequential\":[[0.0,\"#0d0887\"],[0.1111111111111111,\"#46039f\"],[0.2222222222222222,\"#7201a8\"],[0.3333333333333333,\"#9c179e\"],[0.4444444444444444,\"#bd3786\"],[0.5555555555555556,\"#d8576b\"],[0.6666666666666666,\"#ed7953\"],[0.7777777777777778,\"#fb9f3a\"],[0.8888888888888888,\"#fdca26\"],[1.0,\"#f0f921\"]],\"sequentialminus\":[[0.0,\"#0d0887\"],[0.1111111111111111,\"#46039f\"],[0.2222222222222222,\"#7201a8\"],[0.3333333333333333,\"#9c179e\"],[0.4444444444444444,\"#bd3786\"],[0.5555555555555556,\"#d8576b\"],[0.6666666666666666,\"#ed7953\"],[0.7777777777777778,\"#fb9f3a\"],[0.8888888888888888,\"#fdca26\"],[1.0,\"#f0f921\"]]},\"colorway\":[\"#636efa\",\"#EF553B\",\"#00cc96\",\"#ab63fa\",\"#FFA15A\",\"#19d3f3\",\"#FF6692\",\"#B6E880\",\"#FF97FF\",\"#FECB52\"],\"font\":{\"color\":\"#2a3f5f\"},\"geo\":{\"bgcolor\":\"white\",\"lakecolor\":\"white\",\"landcolor\":\"white\",\"showlakes\":true,\"showland\":true,\"subunitcolor\":\"#C8D4E3\"},\"hoverlabel\":{\"align\":\"left\"},\"hovermode\":\"closest\",\"mapbox\":{\"style\":\"light\"},\"paper_bgcolor\":\"white\",\"plot_bgcolor\":\"white\",\"polar\":{\"angularaxis\":{\"gridcolor\":\"#EBF0F8\",\"linecolor\":\"#EBF0F8\",\"ticks\":\"\"},\"bgcolor\":\"white\",\"radialaxis\":{\"gridcolor\":\"#EBF0F8\",\"linecolor\":\"#EBF0F8\",\"ticks\":\"\"}},\"scene\":{\"xaxis\":{\"backgroundcolor\":\"white\",\"gridcolor\":\"#DFE8F3\",\"gridwidth\":2,\"linecolor\":\"#EBF0F8\",\"showbackground\":true,\"ticks\":\"\",\"zerolinecolor\":\"#EBF0F8\"},\"yaxis\":{\"backgroundcolor\":\"white\",\"gridcolor\":\"#DFE8F3\",\"gridwidth\":2,\"linecolor\":\"#EBF0F8\",\"showbackground\":true,\"ticks\":\"\",\"zerolinecolor\":\"#EBF0F8\"},\"zaxis\":{\"backgroundcolor\":\"white\",\"gridcolor\":\"#DFE8F3\",\"gridwidth\":2,\"linecolor\":\"#EBF0F8\",\"showbackground\":true,\"ticks\":\"\",\"zerolinecolor\":\"#EBF0F8\"}},\"shapedefaults\":{\"line\":{\"color\":\"#2a3f5f\"}},\"ternary\":{\"aaxis\":{\"gridcolor\":\"#DFE8F3\",\"linecolor\":\"#A2B1C6\",\"ticks\":\"\"},\"baxis\":{\"gridcolor\":\"#DFE8F3\",\"linecolor\":\"#A2B1C6\",\"ticks\":\"\"},\"bgcolor\":\"white\",\"caxis\":{\"gridcolor\":\"#DFE8F3\",\"linecolor\":\"#A2B1C6\",\"ticks\":\"\"}},\"title\":{\"x\":0.05},\"xaxis\":{\"automargin\":true,\"gridcolor\":\"#EBF0F8\",\"linecolor\":\"#EBF0F8\",\"ticks\":\"\",\"title\":{\"standoff\":15},\"zerolinecolor\":\"#EBF0F8\",\"zerolinewidth\":2},\"yaxis\":{\"automargin\":true,\"gridcolor\":\"#EBF0F8\",\"linecolor\":\"#EBF0F8\",\"ticks\":\"\",\"title\":{\"standoff\":15},\"zerolinecolor\":\"#EBF0F8\",\"zerolinewidth\":2}}},\"xaxis\":{\"anchor\":\"y\",\"domain\":[0.0,0.175],\"showgrid\":true},\"yaxis\":{\"anchor\":\"x\",\"domain\":[0.0,1.0],\"showgrid\":true},\"xaxis2\":{\"anchor\":\"y2\",\"domain\":[0.275,0.45],\"showgrid\":true},\"yaxis2\":{\"anchor\":\"x2\",\"domain\":[0.0,1.0],\"showgrid\":true},\"xaxis3\":{\"anchor\":\"y3\",\"domain\":[0.55,0.7250000000000001],\"showgrid\":true},\"yaxis3\":{\"anchor\":\"x3\",\"domain\":[0.0,1.0],\"showgrid\":true},\"xaxis4\":{\"anchor\":\"y4\",\"domain\":[0.825,1.0],\"showgrid\":true},\"yaxis4\":{\"anchor\":\"x4\",\"domain\":[0.0,1.0],\"showgrid\":true},\"annotations\":[{\"font\":{\"size\":16},\"showarrow\":false,\"text\":\"Topic 0\",\"x\":0.0875,\"xanchor\":\"center\",\"xref\":\"paper\",\"y\":1.0,\"yanchor\":\"bottom\",\"yref\":\"paper\"},{\"font\":{\"size\":16},\"showarrow\":false,\"text\":\"Topic 1\",\"x\":0.36250000000000004,\"xanchor\":\"center\",\"xref\":\"paper\",\"y\":1.0,\"yanchor\":\"bottom\",\"yref\":\"paper\"}],\"title\":{\"font\":{\"size\":22,\"color\":\"Black\"},\"text\":\"Topic Word Scores\",\"x\":0.5,\"xanchor\":\"center\",\"yanchor\":\"top\"},\"hoverlabel\":{\"font\":{\"size\":16,\"family\":\"Rockwell\"},\"bgcolor\":\"white\"},\"showlegend\":false,\"width\":1000,\"height\":325.0},                        {\"responsive\": true}                    ).then(function(){\n",
       "                            \n",
       "var gd = document.getElementById('ff89de0a-4405-4fbd-8ccb-5d3bda84c578');\n",
       "var x = new MutationObserver(function (mutations, observer) {{\n",
       "        var display = window.getComputedStyle(gd).display;\n",
       "        if (!display || display === 'none') {{\n",
       "            console.log([gd, 'removed!']);\n",
       "            Plotly.purge(gd);\n",
       "            observer.disconnect();\n",
       "        }}\n",
       "}});\n",
       "\n",
       "// Listen for the removal of the full notebook cells\n",
       "var notebookContainer = gd.closest('#notebook-container');\n",
       "if (notebookContainer) {{\n",
       "    x.observe(notebookContainer, {childList: true});\n",
       "}}\n",
       "\n",
       "// Listen for the clearing of the current output cell\n",
       "var outputEl = gd.closest('.output');\n",
       "if (outputEl) {{\n",
       "    x.observe(outputEl, {childList: true});\n",
       "}}\n",
       "\n",
       "                        })                };                });            </script>        </div>"
      ]
     },
     "metadata": {},
     "output_type": "display_data"
    }
   ],
   "source": [
    "topic_model.visualize_barchart()"
   ]
  },
  {
   "cell_type": "code",
   "execution_count": 47,
   "id": "68e08663-3281-46ac-8c54-aba8b43e72db",
   "metadata": {},
   "outputs": [
    {
     "name": "stderr",
     "output_type": "stream",
     "text": [
      "100%|██████████████████████████████████████████████████████████████████████████████████████████████████████████████████████| 1/1 [00:00<00:00, 131.58it/s]\n"
     ]
    }
   ],
   "source": [
    "# Reduce outliers using the `distributions` strategy\n",
    "#new_topics = topic_model.reduce_outliers(reviews, topics, strategy=\"distributions\")"
   ]
  },
  {
   "cell_type": "code",
   "execution_count": 48,
   "id": "11818fd4-8aae-433a-85a5-eb3fd313fc6e",
   "metadata": {},
   "outputs": [
    {
     "name": "stderr",
     "output_type": "stream",
     "text": [
      "2024-08-08 13:28:16,900 - BERTopic - WARNING: Using a custom list of topic assignments may lead to errors if topic reduction techniques are used afterwards. Make sure that manually assigning topics is the last step in the pipeline.Note that topic embeddings will also be created through weightedc-TF-IDF embeddings instead of centroid embeddings.\n"
     ]
    }
   ],
   "source": [
    "#topic_model.update_topics(reviews, topics=new_topics)"
   ]
  },
  {
   "cell_type": "code",
   "execution_count": 49,
   "id": "997e1447-fb76-44b2-a84b-2ad685a15895",
   "metadata": {},
   "outputs": [
    {
     "data": {
      "text/html": [
       "<div>\n",
       "<style scoped>\n",
       "    .dataframe tbody tr th:only-of-type {\n",
       "        vertical-align: middle;\n",
       "    }\n",
       "\n",
       "    .dataframe tbody tr th {\n",
       "        vertical-align: top;\n",
       "    }\n",
       "\n",
       "    .dataframe thead th {\n",
       "        text-align: right;\n",
       "    }\n",
       "</style>\n",
       "<table border=\"1\" class=\"dataframe\">\n",
       "  <thead>\n",
       "    <tr style=\"text-align: right;\">\n",
       "      <th></th>\n",
       "      <th>Topic</th>\n",
       "      <th>Count</th>\n",
       "      <th>Name</th>\n",
       "      <th>Representation</th>\n",
       "      <th>KeyBert</th>\n",
       "      <th>OpenAI</th>\n",
       "      <th>POS</th>\n",
       "      <th>MMR</th>\n",
       "      <th>Representative_Docs</th>\n",
       "    </tr>\n",
       "  </thead>\n",
       "  <tbody>\n",
       "    <tr>\n",
       "      <th>0</th>\n",
       "      <td>0</td>\n",
       "      <td>79</td>\n",
       "      <td>0_it_the_not_work</td>\n",
       "      <td>[it, the, not, work, for, my, didn, me, and, f...</td>\n",
       "      <td>[dark spot, spot corrector, dark, doesn work, ...</td>\n",
       "      <td>[\"Ineffective dark spot corrector\"]</td>\n",
       "      <td>[dark, face, week, product, small, corrector, ...</td>\n",
       "      <td>[face, dark, don like, didn work, garnier, spo...</td>\n",
       "      <td>[Dark spot corrector..Review after 24days of u...</td>\n",
       "    </tr>\n",
       "    <tr>\n",
       "      <th>1</th>\n",
       "      <td>1</td>\n",
       "      <td>66</td>\n",
       "      <td>1_the_is_it_product</td>\n",
       "      <td>[the, is, it, product, empty, tube, was, not, ...</td>\n",
       "      <td>[small quantity, quantity tube, quantity littl...</td>\n",
       "      <td>[Disappointment with product quantity]</td>\n",
       "      <td>[product, tube, little, air, quantity, good, p...</td>\n",
       "      <td>[tube, little, used, like, quantity, products,...</td>\n",
       "      <td>[Not bad.Amount paid vs quantity are a scam,th...</td>\n",
       "    </tr>\n",
       "  </tbody>\n",
       "</table>\n",
       "</div>"
      ],
      "text/plain": [
       "   Topic  Count                 Name  \\\n",
       "0      0     79    0_it_the_not_work   \n",
       "1      1     66  1_the_is_it_product   \n",
       "\n",
       "                                      Representation  \\\n",
       "0  [it, the, not, work, for, my, didn, me, and, f...   \n",
       "1  [the, is, it, product, empty, tube, was, not, ...   \n",
       "\n",
       "                                             KeyBert  \\\n",
       "0  [dark spot, spot corrector, dark, doesn work, ...   \n",
       "1  [small quantity, quantity tube, quantity littl...   \n",
       "\n",
       "                                   OpenAI  \\\n",
       "0     [\"Ineffective dark spot corrector\"]   \n",
       "1  [Disappointment with product quantity]   \n",
       "\n",
       "                                                 POS  \\\n",
       "0  [dark, face, week, product, small, corrector, ...   \n",
       "1  [product, tube, little, air, quantity, good, p...   \n",
       "\n",
       "                                                 MMR  \\\n",
       "0  [face, dark, don like, didn work, garnier, spo...   \n",
       "1  [tube, little, used, like, quantity, products,...   \n",
       "\n",
       "                                 Representative_Docs  \n",
       "0  [Dark spot corrector..Review after 24days of u...  \n",
       "1  [Not bad.Amount paid vs quantity are a scam,th...  "
      ]
     },
     "execution_count": 49,
     "metadata": {},
     "output_type": "execute_result"
    }
   ],
   "source": [
    "topic_model.get_topic_info()"
   ]
  },
  {
   "cell_type": "code",
   "execution_count": 61,
   "id": "ae68dbc5-e264-4cba-8e68-bded8783fc05",
   "metadata": {},
   "outputs": [],
   "source": [
    "# or ChatGPT's labels\n",
    "gpt_topic_labels = {topic: \" | \".join(list(zip(*values))[0]) for topic, values in topic_model.topic_aspects_[\"OpenAI\"].items()}\n",
    "#chatgpt_topic_labels[-1] = \"Others\"\n",
    "topic_model.set_topic_labels(gpt_topic_labels)"
   ]
  },
  {
   "cell_type": "code",
   "execution_count": 62,
   "id": "fac17d67-1cf3-4989-910a-9a43df2d60bc",
   "metadata": {},
   "outputs": [
    {
     "data": {
      "text/html": [
       "<div>\n",
       "<style scoped>\n",
       "    .dataframe tbody tr th:only-of-type {\n",
       "        vertical-align: middle;\n",
       "    }\n",
       "\n",
       "    .dataframe tbody tr th {\n",
       "        vertical-align: top;\n",
       "    }\n",
       "\n",
       "    .dataframe thead th {\n",
       "        text-align: right;\n",
       "    }\n",
       "</style>\n",
       "<table border=\"1\" class=\"dataframe\">\n",
       "  <thead>\n",
       "    <tr style=\"text-align: right;\">\n",
       "      <th></th>\n",
       "      <th>Topic</th>\n",
       "      <th>Count</th>\n",
       "      <th>Name</th>\n",
       "      <th>CustomName</th>\n",
       "      <th>Representation</th>\n",
       "      <th>KeyBert</th>\n",
       "      <th>OpenAI</th>\n",
       "      <th>POS</th>\n",
       "      <th>MMR</th>\n",
       "      <th>Representative_Docs</th>\n",
       "    </tr>\n",
       "  </thead>\n",
       "  <tbody>\n",
       "    <tr>\n",
       "      <th>0</th>\n",
       "      <td>-1</td>\n",
       "      <td>18</td>\n",
       "      <td>-1_work_didn_didn work_work expected</td>\n",
       "      <td>Dissatisfaction with Product Effectiveness</td>\n",
       "      <td>[work, didn, didn work, work expected, doesn w...</td>\n",
       "      <td>[didn work, doesn work, works, didn, worked, d...</td>\n",
       "      <td>[Dissatisfaction with Product Effectiveness]</td>\n",
       "      <td>[good, worth, expensive, results, week, face, ...</td>\n",
       "      <td>[work, didn work, work expected, hate, doesn, ...</td>\n",
       "      <td>[Didn't work.Didn't work, nope.Didn't work for...</td>\n",
       "    </tr>\n",
       "    <tr>\n",
       "      <th>1</th>\n",
       "      <td>0</td>\n",
       "      <td>64</td>\n",
       "      <td>0_face_dark_didn_work</td>\n",
       "      <td>Dark spot corrector effectiveness</td>\n",
       "      <td>[face, dark, didn, work, don, week, like, don ...</td>\n",
       "      <td>[dark spot, spot corrector, dark, doesn work, ...</td>\n",
       "      <td>[Dark spot corrector effectiveness]</td>\n",
       "      <td>[dark, face, week, product, small, corrector, ...</td>\n",
       "      <td>[face, dark, don like, didn work, garnier, spo...</td>\n",
       "      <td>[Dark spot corrector..Review after 24days of u...</td>\n",
       "    </tr>\n",
       "    <tr>\n",
       "      <th>2</th>\n",
       "      <td>1</td>\n",
       "      <td>63</td>\n",
       "      <td>1_product_tube_little_air</td>\n",
       "      <td>Product Quantity Dissatisfaction</td>\n",
       "      <td>[product, tube, little, air, used, like, quant...</td>\n",
       "      <td>[small quantity, quantity tube, quantity littl...</td>\n",
       "      <td>[Product Quantity Dissatisfaction]</td>\n",
       "      <td>[product, tube, little, air, quantity, good, p...</td>\n",
       "      <td>[tube, little, used, like, quantity, products,...</td>\n",
       "      <td>[Not bad.Amount paid vs quantity are a scam,th...</td>\n",
       "    </tr>\n",
       "  </tbody>\n",
       "</table>\n",
       "</div>"
      ],
      "text/plain": [
       "   Topic  Count                                  Name  \\\n",
       "0     -1     18  -1_work_didn_didn work_work expected   \n",
       "1      0     64                 0_face_dark_didn_work   \n",
       "2      1     63             1_product_tube_little_air   \n",
       "\n",
       "                                   CustomName  \\\n",
       "0  Dissatisfaction with Product Effectiveness   \n",
       "1           Dark spot corrector effectiveness   \n",
       "2            Product Quantity Dissatisfaction   \n",
       "\n",
       "                                      Representation  \\\n",
       "0  [work, didn, didn work, work expected, doesn w...   \n",
       "1  [face, dark, didn, work, don, week, like, don ...   \n",
       "2  [product, tube, little, air, used, like, quant...   \n",
       "\n",
       "                                             KeyBert  \\\n",
       "0  [didn work, doesn work, works, didn, worked, d...   \n",
       "1  [dark spot, spot corrector, dark, doesn work, ...   \n",
       "2  [small quantity, quantity tube, quantity littl...   \n",
       "\n",
       "                                         OpenAI  \\\n",
       "0  [Dissatisfaction with Product Effectiveness]   \n",
       "1           [Dark spot corrector effectiveness]   \n",
       "2            [Product Quantity Dissatisfaction]   \n",
       "\n",
       "                                                 POS  \\\n",
       "0  [good, worth, expensive, results, week, face, ...   \n",
       "1  [dark, face, week, product, small, corrector, ...   \n",
       "2  [product, tube, little, air, quantity, good, p...   \n",
       "\n",
       "                                                 MMR  \\\n",
       "0  [work, didn work, work expected, hate, doesn, ...   \n",
       "1  [face, dark, don like, didn work, garnier, spo...   \n",
       "2  [tube, little, used, like, quantity, products,...   \n",
       "\n",
       "                                 Representative_Docs  \n",
       "0  [Didn't work.Didn't work, nope.Didn't work for...  \n",
       "1  [Dark spot corrector..Review after 24days of u...  \n",
       "2  [Not bad.Amount paid vs quantity are a scam,th...  "
      ]
     },
     "execution_count": 62,
     "metadata": {},
     "output_type": "execute_result"
    }
   ],
   "source": [
    "topic_model.get_topic_info()"
   ]
  },
  {
   "cell_type": "code",
   "execution_count": 63,
   "id": "0e669d1d-c72c-4c80-bf1a-718e193def50",
   "metadata": {},
   "outputs": [
    {
     "data": {
      "application/vnd.plotly.v1+json": {
       "config": {
        "plotlyServerURL": "https://plot.ly"
       },
       "data": [
        {
         "hoverinfo": "text",
         "hovertext": [
          "Effectiveness.It doesn't work",
          "Does not work.Not what I expected",
          "Garnierdarkspot.Too expensive",
          "Not good.Didn't do anything",
          "not worth it.Does not work as advertised",
          "not working.No results",
          "Somewhat like it.It is good quality but it did not work as I expected",
          "nope.Didn't work for me",
          "scum.Didn't work as expected",
          "i hate it.It doesn't work",
          "Didn't work.Didn't work",
          "garnier.It's not working on my face",
          "i hate it.Worked for a week only",
          "fair.It does not work vile inasemwa",
          "garnier.Doesn't work",
          "never works.Don't work",
          "hate it.Never works",
          "Error 500 (Server Error)!!1500.That’s an error.There was an error. Please try again later.That’s all we know.",
          null
         ],
         "marker": {
          "color": "#CFD8DC",
          "opacity": 0.5,
          "size": 5
         },
         "mode": "markers+text",
         "name": "other",
         "showlegend": false,
         "type": "scattergl",
         "x": [
          3.775134563446045,
          3.435636520385742,
          1.8160357475280762,
          3.6863772869110107,
          3.305548667907715,
          3.7749297618865967,
          3.1229615211486816,
          3.523677110671997,
          3.2674903869628906,
          3.9235355854034424,
          3.6538054943084717,
          1.7877575159072876,
          4.006840705871582,
          3.4743151664733887,
          1.760699987411499,
          3.792940616607666,
          3.95354962348938,
          3.39884090423584,
          3.303337574005127
         ],
         "y": [
          11.634220123291016,
          11.650871276855469,
          8.489875793457031,
          11.674212455749512,
          11.619754791259766,
          11.578229904174805,
          11.744359970092773,
          11.709479331970215,
          11.741851806640625,
          11.994234085083008,
          11.717470169067383,
          8.415422439575195,
          11.960433006286621,
          11.919565200805664,
          8.43555736541748,
          11.787367820739746,
          11.914435386657715,
          11.965312957763672,
          11.219592094421387
         ]
        },
        {
         "hoverinfo": "text",
         "hovertext": [
          "I don’t know how to feel.I don’t know why but this product didn’t do much of anything for me. My scaring didn’t fade in the slightest. In fact I had more breakouts and rashes. I don’t know if it’s an issue of it not being genuine or if it’s something else but I wasn’t a fan. Also it was small and the quantity in the tube wasn’t great either.",
          "Garnier even £matte.I have been using the product for several months now but I still have the dark marks caused by sunburns.  Make the product more efficient so that we can genuinely appreciate it.",
          "real deal.Mattifies my oily face the whole day",
          "Not as good as it is hyped..They say it removes spots in one week. Well, that's  a lie. It's been a week now still nothing. Let's wait for a month and see.",
          "worst cream ever.Made my face rough",
          "Not so bad.Has shinny particles that I don't like",
          "made my face get even worse.Very small in quantity",
          "Dint work.Check the serum review. Vitamin c",
          "looks expired.i used it once on my face and the face turned whitish... can't give it a five star.  I think they sold me an expired item. ????",
          "not impressed.The product doesn't give results within a week as it claims and again it's little inside compared to the amount it's going for .. sometimes garnier products are filled with air and the amount inside is very little..In the second week and it's almost over",
          "doesnt work on the dark spots.Improve everything about the product or abolish it, it didn't work on me, not worth the money",
          "Bad.Gave me bad breakouts",
          "Dark spot corrector.It didn't work for me",
          "for it to be glitter free.It has too much glitters...& Not effective at all",
          "I don't like it.Don't see change in my skin,waste of money",
          "Dark spot corrector..Review after 24days of use. What's up with the quantity¿?? Why not just use a small tube then? If products quantity is little, using a big package just makes things worse. *It does nothing out of the ordinary that that the vitamin C brightening serum can't do. Yes,it is a good product but not a need for a skin care routine.",
          "Glitters.Why does the product have glitters honestly The product also gives you rashes ,,you should have indicated that as a side effect of using it ,,I'm a bit scared",
          "I don't like it.Literally burns the face.",
          "doesnt work.It doesn't work at all guys The amount is little last you for one week max Severe pimples experienced after one week use",
          "garnier even & matte dark spot corrector.It didn't remove the dark spots after using it for almost 2 month now.",
          "its not expencive.It favors my skin",
          "not great on oily skin.No results relly",
          "effectiveness of the product.Been 1 week and nothing. Improve on quantity also",
          "Mixed feelings.I haven’t finished a tube yet, but so far it’s not yet changed any dark spots",
          "needs improvement.Works well but does not remove spot completely",
          "I don't like it.Terrible mistake",
          "I feel confused about it.Not sure it will help remove dark spots ????????",
          "Overrated and expensive for nothing.It's simply overrated. Makes my face extra shiny and oily. I still have the dark spots even after using daily for over a month",
          "Too small no improvement.It was too small and I didn’t see any change",
          "be real.Its overrated,,,never cleared the spots",
          "Didn't work for me..i got pimples after applying on the 2nd day. Didn't work for me.",
          "Results.Cant see much results as expected , works slowly",
          "still need to improve.To clear all the black spots coz have used it but still no change..",
          "spots corrector.It's not working immediately as indicated..am yet to see any changes.. almost 2 wks now",
          "poor.no changes",
          "Not sure.Not so perfect because I still have dark marks. So I just use it as a moisturizer",
          "poor.Very little,,and does not fade darkspot after 1week as claimed..",
          "it dont work!!.lol, this shit dont work. i have normal skin.used it diligently everyday twice a day. no changes whatsoever. i regret this purchase.",
          "Didnt work for me.Not what I expected  Alot of white residue after application",
          "made my skin become rough.Alot of air inside the tube",
          "I don't like it.I didn't notice change.",
          "Not for me.It burns my skin, I could be allergic",
          "quantity. It is very little and my face got a little pimples and I got 2",
          "no change at all.No change at all",
          "i dont like it.it leaves glitter like residue and it broke me out",
          "Too early.Just bought yet to see any change.",
          "it did not help.Make it more effective to all types of skins",
          "Dry skin.Not for dry skin",
          "It never worked for me.I've used it for almost four weeks now and I've not seen any change on my face",
          "I don't like it.There is this shining residue that doesn't come in handy",
          "Didn't work for me.I still have spots even after using it,,,na ni hewa tu imejazwa huko ndani",
          "Garnier.Reacted on my face big time and got me the grandest skin break out had to discontinue after 2 months of consistent usage. Always felt a burning sensation upon application.",
          "clearing dark spots.It doesnt make the skin glow",
          "Garnier product.It didn't work well on my skin",
          "Overrated.Used a whole tube and my dark spots still stayed",
          "The ad isn't what it seems.The product leaves a white-pasty residue when it dries",
          "Flawless skin.Reduces dark sport marks",
          "they can add a product to prevent sun rays.Didn't work on me",
          "Leaves white residue.I don't like it ..it leaves white residue",
          "1 WEEK .The black spots don't dissappear within a week or even month honestly",
          "burning sensation .It left some burnt patches on my face",
          "rectify.It did nothing it only added more pimples to my face",
          "spot corrector.The potion is too small",
          "I dont like it.It really gave me alot of rashes with the first two days applying on my face",
          null
         ],
         "marker": {
          "opacity": 0.5,
          "size": 5
         },
         "mode": "markers+text",
         "name": "Dark spot corrector effectiveness",
         "text": [
          "",
          "",
          "",
          "",
          "",
          "",
          "",
          "",
          "",
          "",
          "",
          "",
          "",
          "",
          "",
          "",
          "",
          "",
          "",
          "",
          "",
          "",
          "",
          "",
          "",
          "",
          "",
          "",
          "",
          "",
          "",
          "",
          "",
          "",
          "",
          "",
          "",
          "",
          "",
          "",
          "",
          "",
          "",
          "",
          "",
          "",
          "",
          "",
          "",
          "",
          "",
          "",
          "",
          "",
          "",
          "",
          "",
          "",
          "",
          "",
          "",
          "",
          "",
          "",
          "Dark spot corrector effectiveness"
         ],
         "textfont": {
          "size": 12
         },
         "type": "scattergl",
         "x": [
          4.20572566986084,
          1.9594554901123047,
          2.6840832233428955,
          3.5371811389923096,
          4.061679363250732,
          4.400912761688232,
          3.9657492637634277,
          2.734290599822998,
          3.3975958824157715,
          4.769990921020508,
          2.980729103088379,
          3.8379132747650146,
          2.7213919162750244,
          3.953213930130005,
          3.817230463027954,
          2.6204397678375244,
          4.011093616485596,
          4.320911884307861,
          3.4248225688934326,
          2.149959087371826,
          3.7195239067077637,
          3.3732664585113525,
          4.5802412033081055,
          4.02931547164917,
          2.992662191390991,
          5.204481601715088,
          2.845540761947632,
          3.398055076599121,
          3.8241660594940186,
          3.4705164432525635,
          3.349487066268921,
          4.6303791999816895,
          3.2493951320648193,
          2.975919246673584,
          3.734283208847046,
          2.6970601081848145,
          3.4679453372955322,
          3.484078884124756,
          4.3106842041015625,
          4.383303642272949,
          4.501462936401367,
          4.077514171600342,
          3.7618837356567383,
          3.7206876277923584,
          4.584974765777588,
          4.072100639343262,
          3.636510133743286,
          3.540787696838379,
          3.404942035675049,
          4.646716117858887,
          2.7322824001312256,
          1.816785454750061,
          2.796048402786255,
          1.895538330078125,
          3.2764768600463867,
          4.493289947509766,
          2.472458839416504,
          3.013657331466675,
          4.5344061851501465,
          3.3270630836486816,
          4.299000263214111,
          3.5979838371276855,
          2.8212172985076904,
          4.211931228637695,
          3.570474863052368
         ],
         "y": [
          8.268852233886719,
          8.478567123413086,
          7.955782413482666,
          9.652544975280762,
          7.307777404785156,
          9.092618942260742,
          7.205012798309326,
          8.362920761108398,
          8.430204391479492,
          10.432039260864258,
          9.076322555541992,
          7.2131757736206055,
          9.460355758666992,
          8.047470092773438,
          8.219023704528809,
          8.523064613342285,
          7.974178791046143,
          7.882003307342529,
          8.168004989624023,
          8.783080101013184,
          7.785284519195557,
          7.773338317871094,
          10.505186080932617,
          9.488473892211914,
          9.764002799987793,
          8.993998527526855,
          8.910109519958496,
          8.875428199768066,
          10.366521835327148,
          9.415000915527344,
          7.71708869934082,
          10.530994415283203,
          9.789749145507812,
          9.799284934997559,
          10.424022674560547,
          8.37895393371582,
          9.752367973327637,
          8.061054229736328,
          8.868948936462402,
          7.434697151184082,
          9.388225555419922,
          7.693727016448975,
          7.150323390960693,
          10.474395751953125,
          8.644506454467773,
          10.198249816894531,
          7.810800552368164,
          7.600494384765625,
          8.203888893127441,
          8.728165626525879,
          9.389403343200684,
          8.42050552368164,
          9.091959953308105,
          8.34988021850586,
          9.121885299682617,
          8.891676902770996,
          8.258783340454102,
          8.472236633300781,
          8.803568840026855,
          9.732192039489746,
          7.462789058685303,
          7.320692539215088,
          9.811583518981934,
          7.821645259857178,
          8.718891143798828
         ]
        },
        {
         "hoverinfo": "text",
         "hovertext": [
          "Received an empty product.Product had nothing inside!!! Stop scamming people.",
          "hate this.The tube is air filled. Basically empty",
          "add the volume.the content is so little",
          "soo small.Its not 30 ml maybe 10ml",
          "bad product.Can't recommend someone to buy it",
          "Mixed feelings.Good product but please work on the amount in the tubes. Tube is half empty",
          "your products are used.My product is half empty total rip off",
          "not delivered.Kindly send my package, I did not receive",
          "you're dishonest.I used it for two days and it was over",
          "Nice.I dont understand why the bottle is more of air filled than the product itself....its so deceiving until you start using it...but works well if used consistently...but one bottle I can honestly say it won't be enough",
          "Half empty.This product has been filled with air. The content inside is less than half full. I'm disappointed in you ???? not good at all. This is robbery ????????",
          "small quantity and never works smh.Be authentic about it",
          "product.It's full of air and less product yet very expensive, you can improve on that",
          "avoid the air in the tube ..sucks.Smells so nice and worked for me  The content is so little tho????",
          "order hasn't been delivered.I ordered one week ago n it hasn't been delivered",
          "Quantity was like two pinches.The lotion inside was so little ,I guess I was given a used one already!!",
          "Greatly Disappointed.The product came half full. The box was already torn. I don't get it jumia. If it's black Friday tell people if you're giving out products that are 1/4 full",
          "its average.It's average.",
          "I HATE it.The best thing inside is air . Doesn't work and the content is too little compared to the price ????????",
          "I don't like it.Product is expensive and very little inside",
          "good but its too little.At least fill up the tube I only used it for one week and it got finished.",
          "Not satisfied .Theres hardly nothing in it…. Just a tube with a wee cream",
          "Mixed feelings.Not so sure about it. Plus the product is too little.",
          "try not to tamper with peoples delivery.Am not convinced by the delivery you guys bought today someone had tempered with it????",
          "Amount.Reduce the price,,the bottle is almost empty",
          "I dont like it.Half empty",
          "too little.fill it more",
          "Not original.Turned from cream to liquid, surely!!! I had stored it in my closet not anywhere near heat or sun !",
          "Not bad.Amount paid vs quantity are a scam,the product is too little considering how expensive it is,but the product itself is good.",
          "Visible Changes.The product seems to be working but the tube is not even full not even ¾ full.",
          "almost empty tube.Kindly the amount and the quantity do not match.not worth it",
          "poor.Not well sealed, looks like someone used it for a while",
          "too little quantity..Considering  the price, the quantity inside was tooooo little. I was disappointed.",
          "I have mixed feelings about the product.requires a lot of patience for the results to show plus I think it came less than the indicated ml because tell me why have used it for 2wks, pea size amt, actually smaller than pea size, and it is done",
          "The product was almost used up..Its like the product was being used , because I applied it twice and its over, the tube was very much empty, so disappointed",
          "I like it but it was half empty.The product was half empty",
          "Received an already used product.Really disappointed...Almost empty tube!!",
          "bad.It was half full",
          "Like it.Less effective",
          "stop posting with the box aside.You posted the product with its box aside. One may think when ordering you will get two products only to find its one and very small. This is called Misrepresentation. As how can you post a box aside. Very disappointed",
          "tube is too  small.Bigger please",
          "Just as expected ????.Increase the amount.",
          "rude.Be a little bit nice",
          "Garner dark spot corrector.The content in the product is only ¼ in the tube the rest is empty. This is very bad !",
          "wanting.the quantity in the tube is wanting ......full of gas",
          "Like it.But it was not even half the tube... Very little",
          "Yet to see the results.Too much air in the tube...",
          "More space than product.The product is great but there's more air than there is product in the tube which is disappointing. Needs transparent packaging",
          "terrible or fake.I don't know",
          "I don't like it.Empty empty tube",
          "its ok.Buh the content is just quarter... Almost empty nkt!",
          "I don't like it.Nothing in the tube. Jumia take time to verify your products. You can do better instead of selling air! I am really disappointed. I can't believe I purchased nothing and I tried to refund but it's not eligible. Thank you coz I now know better.",
          "Product empty.The product was empty inside",
          "Scam.There is nothing in this tube !!!\r \r Jumia you should be able to rate your vendors appropriately.\r \r I have bought on Jumia before but never been conned like this. I an totally disappointed and I guess Jumia you can do better",
          "empty tube.Only used it for 4 days and got finished.. The tube is full of air... Not worth it.",
          "I like it.The product is nice but it’s very little..  3/4 of the bottle is empty filled with air and the rest 1/4 is the product (actually less than a 1/4) I feel cheated",
          "I HATE IT.Scam!!! Why are you selling empty bottles?! The content is less than 10ml!! DON'T BUY THIS PRODUCT!!!!",
          "not good.Your tube   is just empty",
          "It wasn't sealed well,thought they were two.Still confused hoping for the best",
          "the product itself.Pack came open, this not encouraging",
          "disappoint.The tube is full of air",
          "The quantity was too little.Very little quantity compared to what’s written",
          "Almost empty.The tube is mostly air",
          null
         ],
         "marker": {
          "opacity": 0.5,
          "size": 5
         },
         "mode": "markers+text",
         "name": "Product Quantity Dissatisfaction",
         "text": [
          "",
          "",
          "",
          "",
          "",
          "",
          "",
          "",
          "",
          "",
          "",
          "",
          "",
          "",
          "",
          "",
          "",
          "",
          "",
          "",
          "",
          "",
          "",
          "",
          "",
          "",
          "",
          "",
          "",
          "",
          "",
          "",
          "",
          "",
          "",
          "",
          "",
          "",
          "",
          "",
          "",
          "",
          "",
          "",
          "",
          "",
          "",
          "",
          "",
          "",
          "",
          "",
          "",
          "",
          "",
          "",
          "",
          "",
          "",
          "",
          "",
          "",
          "",
          "Product Quantity Dissatisfaction"
         ],
         "textfont": {
          "size": 12
         },
         "type": "scattergl",
         "x": [
          7.035830974578857,
          7.983281135559082,
          6.592687129974365,
          5.970609188079834,
          6.607670783996582,
          7.3820953369140625,
          7.142462253570557,
          7.164929389953613,
          6.949803352355957,
          5.809393405914307,
          6.827304363250732,
          5.674912929534912,
          5.853188991546631,
          6.001675605773926,
          7.110625267028809,
          6.884965896606445,
          6.678084850311279,
          5.9229350090026855,
          6.135866641998291,
          6.074700355529785,
          6.983572483062744,
          7.907024383544922,
          5.399640083312988,
          6.978358745574951,
          6.948768615722656,
          6.124118804931641,
          6.609029293060303,
          7.200373649597168,
          5.729752063751221,
          7.304736137390137,
          7.470724582672119,
          7.391653060913086,
          6.791175842285156,
          5.114499568939209,
          7.459333419799805,
          6.997970104217529,
          7.580623149871826,
          6.276302814483643,
          4.1264519691467285,
          6.83564567565918,
          7.192410469055176,
          6.642207622528076,
          6.231451988220215,
          2.600586175918579,
          7.485774040222168,
          7.454890727996826,
          7.984260082244873,
          5.9114861488342285,
          5.770441055297852,
          7.747103214263916,
          6.5792317390441895,
          6.450015544891357,
          7.363000392913818,
          6.468888759613037,
          8.097622871398926,
          5.910970211029053,
          6.316672325134277,
          7.915442943572998,
          7.377736568450928,
          7.323547840118408,
          8.109952926635742,
          6.654560089111328,
          7.922213077545166,
          6.707036018371582
         ],
         "y": [
          9.681306838989258,
          11.186151504516602,
          11.37787914276123,
          10.460734367370605,
          9.44737720489502,
          11.424253463745117,
          9.82194709777832,
          9.365009307861328,
          9.286852836608887,
          10.907687187194824,
          10.060080528259277,
          10.091984748840332,
          11.055695533752441,
          10.700281143188477,
          9.29439926147461,
          10.86043643951416,
          9.820999145507812,
          11.335723876953125,
          10.304996490478516,
          10.30482292175293,
          11.480327606201172,
          11.120980262756348,
          10.632413864135742,
          9.339251518249512,
          10.952679634094238,
          9.470829963684082,
          11.420331954956055,
          10.209233283996582,
          11.017629623413086,
          11.47132682800293,
          11.138039588928223,
          9.948761940002441,
          10.933777809143066,
          10.611519813537598,
          10.3207426071167,
          9.846903800964355,
          10.530375480651855,
          9.570327758789062,
          11.325199127197266,
          9.731072425842285,
          11.595285415649414,
          11.47017765045166,
          9.367233276367188,
          9.771443367004395,
          11.386435508728027,
          11.405694007873535,
          11.606032371520996,
          11.077337265014648,
          9.307671546936035,
          11.012746810913086,
          11.392271995544434,
          10.11580753326416,
          9.703264236450195,
          10.04890251159668,
          11.235970497131348,
          10.715274810791016,
          10.163426399230957,
          11.142121315002441,
          9.913049697875977,
          9.670611381530762,
          11.45690631866455,
          11.194456100463867,
          11.403470039367676,
          10.539935111999512
         ]
        }
       ],
       "layout": {
        "annotations": [
         {
          "showarrow": false,
          "text": "D1",
          "x": 1.496594989299774,
          "y": 9.935572040081023,
          "yshift": 10
         },
         {
          "showarrow": false,
          "text": "D2",
          "x": 5.411520427465439,
          "xshift": 10,
          "y": 13.79336919784546
         }
        ],
        "height": 750,
        "shapes": [
         {
          "line": {
           "color": "#CFD8DC",
           "width": 2
          },
          "type": "line",
          "x0": 5.411520427465439,
          "x1": 5.411520427465439,
          "y0": 6.077774882316589,
          "y1": 13.79336919784546
         },
         {
          "line": {
           "color": "#9E9E9E",
           "width": 2
          },
          "type": "line",
          "x0": 1.496594989299774,
          "x1": 9.326445865631104,
          "y0": 9.935572040081023,
          "y1": 9.935572040081023
         }
        ],
        "template": {
         "data": {
          "bar": [
           {
            "error_x": {
             "color": "rgb(36,36,36)"
            },
            "error_y": {
             "color": "rgb(36,36,36)"
            },
            "marker": {
             "line": {
              "color": "white",
              "width": 0.5
             },
             "pattern": {
              "fillmode": "overlay",
              "size": 10,
              "solidity": 0.2
             }
            },
            "type": "bar"
           }
          ],
          "barpolar": [
           {
            "marker": {
             "line": {
              "color": "white",
              "width": 0.5
             },
             "pattern": {
              "fillmode": "overlay",
              "size": 10,
              "solidity": 0.2
             }
            },
            "type": "barpolar"
           }
          ],
          "carpet": [
           {
            "aaxis": {
             "endlinecolor": "rgb(36,36,36)",
             "gridcolor": "white",
             "linecolor": "white",
             "minorgridcolor": "white",
             "startlinecolor": "rgb(36,36,36)"
            },
            "baxis": {
             "endlinecolor": "rgb(36,36,36)",
             "gridcolor": "white",
             "linecolor": "white",
             "minorgridcolor": "white",
             "startlinecolor": "rgb(36,36,36)"
            },
            "type": "carpet"
           }
          ],
          "choropleth": [
           {
            "colorbar": {
             "outlinewidth": 1,
             "tickcolor": "rgb(36,36,36)",
             "ticks": "outside"
            },
            "type": "choropleth"
           }
          ],
          "contour": [
           {
            "colorbar": {
             "outlinewidth": 1,
             "tickcolor": "rgb(36,36,36)",
             "ticks": "outside"
            },
            "colorscale": [
             [
              0,
              "#440154"
             ],
             [
              0.1111111111111111,
              "#482878"
             ],
             [
              0.2222222222222222,
              "#3e4989"
             ],
             [
              0.3333333333333333,
              "#31688e"
             ],
             [
              0.4444444444444444,
              "#26828e"
             ],
             [
              0.5555555555555556,
              "#1f9e89"
             ],
             [
              0.6666666666666666,
              "#35b779"
             ],
             [
              0.7777777777777778,
              "#6ece58"
             ],
             [
              0.8888888888888888,
              "#b5de2b"
             ],
             [
              1,
              "#fde725"
             ]
            ],
            "type": "contour"
           }
          ],
          "contourcarpet": [
           {
            "colorbar": {
             "outlinewidth": 1,
             "tickcolor": "rgb(36,36,36)",
             "ticks": "outside"
            },
            "type": "contourcarpet"
           }
          ],
          "heatmap": [
           {
            "colorbar": {
             "outlinewidth": 1,
             "tickcolor": "rgb(36,36,36)",
             "ticks": "outside"
            },
            "colorscale": [
             [
              0,
              "#440154"
             ],
             [
              0.1111111111111111,
              "#482878"
             ],
             [
              0.2222222222222222,
              "#3e4989"
             ],
             [
              0.3333333333333333,
              "#31688e"
             ],
             [
              0.4444444444444444,
              "#26828e"
             ],
             [
              0.5555555555555556,
              "#1f9e89"
             ],
             [
              0.6666666666666666,
              "#35b779"
             ],
             [
              0.7777777777777778,
              "#6ece58"
             ],
             [
              0.8888888888888888,
              "#b5de2b"
             ],
             [
              1,
              "#fde725"
             ]
            ],
            "type": "heatmap"
           }
          ],
          "heatmapgl": [
           {
            "colorbar": {
             "outlinewidth": 1,
             "tickcolor": "rgb(36,36,36)",
             "ticks": "outside"
            },
            "colorscale": [
             [
              0,
              "#440154"
             ],
             [
              0.1111111111111111,
              "#482878"
             ],
             [
              0.2222222222222222,
              "#3e4989"
             ],
             [
              0.3333333333333333,
              "#31688e"
             ],
             [
              0.4444444444444444,
              "#26828e"
             ],
             [
              0.5555555555555556,
              "#1f9e89"
             ],
             [
              0.6666666666666666,
              "#35b779"
             ],
             [
              0.7777777777777778,
              "#6ece58"
             ],
             [
              0.8888888888888888,
              "#b5de2b"
             ],
             [
              1,
              "#fde725"
             ]
            ],
            "type": "heatmapgl"
           }
          ],
          "histogram": [
           {
            "marker": {
             "line": {
              "color": "white",
              "width": 0.6
             }
            },
            "type": "histogram"
           }
          ],
          "histogram2d": [
           {
            "colorbar": {
             "outlinewidth": 1,
             "tickcolor": "rgb(36,36,36)",
             "ticks": "outside"
            },
            "colorscale": [
             [
              0,
              "#440154"
             ],
             [
              0.1111111111111111,
              "#482878"
             ],
             [
              0.2222222222222222,
              "#3e4989"
             ],
             [
              0.3333333333333333,
              "#31688e"
             ],
             [
              0.4444444444444444,
              "#26828e"
             ],
             [
              0.5555555555555556,
              "#1f9e89"
             ],
             [
              0.6666666666666666,
              "#35b779"
             ],
             [
              0.7777777777777778,
              "#6ece58"
             ],
             [
              0.8888888888888888,
              "#b5de2b"
             ],
             [
              1,
              "#fde725"
             ]
            ],
            "type": "histogram2d"
           }
          ],
          "histogram2dcontour": [
           {
            "colorbar": {
             "outlinewidth": 1,
             "tickcolor": "rgb(36,36,36)",
             "ticks": "outside"
            },
            "colorscale": [
             [
              0,
              "#440154"
             ],
             [
              0.1111111111111111,
              "#482878"
             ],
             [
              0.2222222222222222,
              "#3e4989"
             ],
             [
              0.3333333333333333,
              "#31688e"
             ],
             [
              0.4444444444444444,
              "#26828e"
             ],
             [
              0.5555555555555556,
              "#1f9e89"
             ],
             [
              0.6666666666666666,
              "#35b779"
             ],
             [
              0.7777777777777778,
              "#6ece58"
             ],
             [
              0.8888888888888888,
              "#b5de2b"
             ],
             [
              1,
              "#fde725"
             ]
            ],
            "type": "histogram2dcontour"
           }
          ],
          "mesh3d": [
           {
            "colorbar": {
             "outlinewidth": 1,
             "tickcolor": "rgb(36,36,36)",
             "ticks": "outside"
            },
            "type": "mesh3d"
           }
          ],
          "parcoords": [
           {
            "line": {
             "colorbar": {
              "outlinewidth": 1,
              "tickcolor": "rgb(36,36,36)",
              "ticks": "outside"
             }
            },
            "type": "parcoords"
           }
          ],
          "pie": [
           {
            "automargin": true,
            "type": "pie"
           }
          ],
          "scatter": [
           {
            "fillpattern": {
             "fillmode": "overlay",
             "size": 10,
             "solidity": 0.2
            },
            "type": "scatter"
           }
          ],
          "scatter3d": [
           {
            "line": {
             "colorbar": {
              "outlinewidth": 1,
              "tickcolor": "rgb(36,36,36)",
              "ticks": "outside"
             }
            },
            "marker": {
             "colorbar": {
              "outlinewidth": 1,
              "tickcolor": "rgb(36,36,36)",
              "ticks": "outside"
             }
            },
            "type": "scatter3d"
           }
          ],
          "scattercarpet": [
           {
            "marker": {
             "colorbar": {
              "outlinewidth": 1,
              "tickcolor": "rgb(36,36,36)",
              "ticks": "outside"
             }
            },
            "type": "scattercarpet"
           }
          ],
          "scattergeo": [
           {
            "marker": {
             "colorbar": {
              "outlinewidth": 1,
              "tickcolor": "rgb(36,36,36)",
              "ticks": "outside"
             }
            },
            "type": "scattergeo"
           }
          ],
          "scattergl": [
           {
            "marker": {
             "colorbar": {
              "outlinewidth": 1,
              "tickcolor": "rgb(36,36,36)",
              "ticks": "outside"
             }
            },
            "type": "scattergl"
           }
          ],
          "scattermapbox": [
           {
            "marker": {
             "colorbar": {
              "outlinewidth": 1,
              "tickcolor": "rgb(36,36,36)",
              "ticks": "outside"
             }
            },
            "type": "scattermapbox"
           }
          ],
          "scatterpolar": [
           {
            "marker": {
             "colorbar": {
              "outlinewidth": 1,
              "tickcolor": "rgb(36,36,36)",
              "ticks": "outside"
             }
            },
            "type": "scatterpolar"
           }
          ],
          "scatterpolargl": [
           {
            "marker": {
             "colorbar": {
              "outlinewidth": 1,
              "tickcolor": "rgb(36,36,36)",
              "ticks": "outside"
             }
            },
            "type": "scatterpolargl"
           }
          ],
          "scatterternary": [
           {
            "marker": {
             "colorbar": {
              "outlinewidth": 1,
              "tickcolor": "rgb(36,36,36)",
              "ticks": "outside"
             }
            },
            "type": "scatterternary"
           }
          ],
          "surface": [
           {
            "colorbar": {
             "outlinewidth": 1,
             "tickcolor": "rgb(36,36,36)",
             "ticks": "outside"
            },
            "colorscale": [
             [
              0,
              "#440154"
             ],
             [
              0.1111111111111111,
              "#482878"
             ],
             [
              0.2222222222222222,
              "#3e4989"
             ],
             [
              0.3333333333333333,
              "#31688e"
             ],
             [
              0.4444444444444444,
              "#26828e"
             ],
             [
              0.5555555555555556,
              "#1f9e89"
             ],
             [
              0.6666666666666666,
              "#35b779"
             ],
             [
              0.7777777777777778,
              "#6ece58"
             ],
             [
              0.8888888888888888,
              "#b5de2b"
             ],
             [
              1,
              "#fde725"
             ]
            ],
            "type": "surface"
           }
          ],
          "table": [
           {
            "cells": {
             "fill": {
              "color": "rgb(237,237,237)"
             },
             "line": {
              "color": "white"
             }
            },
            "header": {
             "fill": {
              "color": "rgb(217,217,217)"
             },
             "line": {
              "color": "white"
             }
            },
            "type": "table"
           }
          ]
         },
         "layout": {
          "annotationdefaults": {
           "arrowhead": 0,
           "arrowwidth": 1
          },
          "autotypenumbers": "strict",
          "coloraxis": {
           "colorbar": {
            "outlinewidth": 1,
            "tickcolor": "rgb(36,36,36)",
            "ticks": "outside"
           }
          },
          "colorscale": {
           "diverging": [
            [
             0,
             "rgb(103,0,31)"
            ],
            [
             0.1,
             "rgb(178,24,43)"
            ],
            [
             0.2,
             "rgb(214,96,77)"
            ],
            [
             0.3,
             "rgb(244,165,130)"
            ],
            [
             0.4,
             "rgb(253,219,199)"
            ],
            [
             0.5,
             "rgb(247,247,247)"
            ],
            [
             0.6,
             "rgb(209,229,240)"
            ],
            [
             0.7,
             "rgb(146,197,222)"
            ],
            [
             0.8,
             "rgb(67,147,195)"
            ],
            [
             0.9,
             "rgb(33,102,172)"
            ],
            [
             1,
             "rgb(5,48,97)"
            ]
           ],
           "sequential": [
            [
             0,
             "#440154"
            ],
            [
             0.1111111111111111,
             "#482878"
            ],
            [
             0.2222222222222222,
             "#3e4989"
            ],
            [
             0.3333333333333333,
             "#31688e"
            ],
            [
             0.4444444444444444,
             "#26828e"
            ],
            [
             0.5555555555555556,
             "#1f9e89"
            ],
            [
             0.6666666666666666,
             "#35b779"
            ],
            [
             0.7777777777777778,
             "#6ece58"
            ],
            [
             0.8888888888888888,
             "#b5de2b"
            ],
            [
             1,
             "#fde725"
            ]
           ],
           "sequentialminus": [
            [
             0,
             "#440154"
            ],
            [
             0.1111111111111111,
             "#482878"
            ],
            [
             0.2222222222222222,
             "#3e4989"
            ],
            [
             0.3333333333333333,
             "#31688e"
            ],
            [
             0.4444444444444444,
             "#26828e"
            ],
            [
             0.5555555555555556,
             "#1f9e89"
            ],
            [
             0.6666666666666666,
             "#35b779"
            ],
            [
             0.7777777777777778,
             "#6ece58"
            ],
            [
             0.8888888888888888,
             "#b5de2b"
            ],
            [
             1,
             "#fde725"
            ]
           ]
          },
          "colorway": [
           "#1F77B4",
           "#FF7F0E",
           "#2CA02C",
           "#D62728",
           "#9467BD",
           "#8C564B",
           "#E377C2",
           "#7F7F7F",
           "#BCBD22",
           "#17BECF"
          ],
          "font": {
           "color": "rgb(36,36,36)"
          },
          "geo": {
           "bgcolor": "white",
           "lakecolor": "white",
           "landcolor": "white",
           "showlakes": true,
           "showland": true,
           "subunitcolor": "white"
          },
          "hoverlabel": {
           "align": "left"
          },
          "hovermode": "closest",
          "mapbox": {
           "style": "light"
          },
          "paper_bgcolor": "white",
          "plot_bgcolor": "white",
          "polar": {
           "angularaxis": {
            "gridcolor": "rgb(232,232,232)",
            "linecolor": "rgb(36,36,36)",
            "showgrid": false,
            "showline": true,
            "ticks": "outside"
           },
           "bgcolor": "white",
           "radialaxis": {
            "gridcolor": "rgb(232,232,232)",
            "linecolor": "rgb(36,36,36)",
            "showgrid": false,
            "showline": true,
            "ticks": "outside"
           }
          },
          "scene": {
           "xaxis": {
            "backgroundcolor": "white",
            "gridcolor": "rgb(232,232,232)",
            "gridwidth": 2,
            "linecolor": "rgb(36,36,36)",
            "showbackground": true,
            "showgrid": false,
            "showline": true,
            "ticks": "outside",
            "zeroline": false,
            "zerolinecolor": "rgb(36,36,36)"
           },
           "yaxis": {
            "backgroundcolor": "white",
            "gridcolor": "rgb(232,232,232)",
            "gridwidth": 2,
            "linecolor": "rgb(36,36,36)",
            "showbackground": true,
            "showgrid": false,
            "showline": true,
            "ticks": "outside",
            "zeroline": false,
            "zerolinecolor": "rgb(36,36,36)"
           },
           "zaxis": {
            "backgroundcolor": "white",
            "gridcolor": "rgb(232,232,232)",
            "gridwidth": 2,
            "linecolor": "rgb(36,36,36)",
            "showbackground": true,
            "showgrid": false,
            "showline": true,
            "ticks": "outside",
            "zeroline": false,
            "zerolinecolor": "rgb(36,36,36)"
           }
          },
          "shapedefaults": {
           "fillcolor": "black",
           "line": {
            "width": 0
           },
           "opacity": 0.3
          },
          "ternary": {
           "aaxis": {
            "gridcolor": "rgb(232,232,232)",
            "linecolor": "rgb(36,36,36)",
            "showgrid": false,
            "showline": true,
            "ticks": "outside"
           },
           "baxis": {
            "gridcolor": "rgb(232,232,232)",
            "linecolor": "rgb(36,36,36)",
            "showgrid": false,
            "showline": true,
            "ticks": "outside"
           },
           "bgcolor": "white",
           "caxis": {
            "gridcolor": "rgb(232,232,232)",
            "linecolor": "rgb(36,36,36)",
            "showgrid": false,
            "showline": true,
            "ticks": "outside"
           }
          },
          "title": {
           "x": 0.05
          },
          "xaxis": {
           "automargin": true,
           "gridcolor": "rgb(232,232,232)",
           "linecolor": "rgb(36,36,36)",
           "showgrid": false,
           "showline": true,
           "ticks": "outside",
           "title": {
            "standoff": 15
           },
           "zeroline": false,
           "zerolinecolor": "rgb(36,36,36)"
          },
          "yaxis": {
           "automargin": true,
           "gridcolor": "rgb(232,232,232)",
           "linecolor": "rgb(36,36,36)",
           "showgrid": false,
           "showline": true,
           "ticks": "outside",
           "title": {
            "standoff": 15
           },
           "zeroline": false,
           "zerolinecolor": "rgb(36,36,36)"
          }
         }
        },
        "title": {
         "font": {
          "color": "Black",
          "size": 22
         },
         "text": "Garnier Dark Spot Corrector Documents & Topics",
         "x": 0.5,
         "xanchor": "center",
         "yanchor": "top"
        },
        "width": 1200,
        "xaxis": {
         "autorange": true,
         "range": [
          1.3308415191388872,
          9.335919330496615
         ],
         "type": "linear",
         "visible": false
        },
        "yaxis": {
         "autorange": true,
         "range": [
          6.063984722682043,
          13.924375714373653
         ],
         "type": "linear",
         "visible": false
        }
       }
      },
      "image/png": "[encoded data removed]",
      "text/html": [
       "<div>                            <div id=\"31c1f82d-9a0d-476c-adca-adc26fb89684\" class=\"plotly-graph-div\" style=\"height:750px; width:1200px;\"></div>            <script type=\"text/javascript\">                require([\"plotly\"], function(Plotly) {                    window.PLOTLYENV=window.PLOTLYENV || {};                                    if (document.getElementById(\"31c1f82d-9a0d-476c-adca-adc26fb89684\")) {                    Plotly.newPlot(                        \"31c1f82d-9a0d-476c-adca-adc26fb89684\",                        [{\"hoverinfo\":\"text\",\"hovertext\":[\"Effectiveness.It doesn't work\",\"Does not work.Not what I expected\",\"Garnierdarkspot.Too expensive\",\"Not good.Didn't do anything\",\"not worth it.Does not work as advertised\",\"not working.No results\",\"Somewhat like it.It is good quality but it did not work as I expected\",\"nope.Didn't work for me\",\"scum.Didn't work as expected\",\"i hate it.It doesn't work\",\"Didn't work.Didn't work\",\"garnier.It's not working on my face\",\"i hate it.Worked for a week only\",\"fair.It does not work vile inasemwa\",\"garnier.Doesn't work\",\"never works.Don't work\",\"hate it.Never works\",\"Error 500 (Server Error)!!1500.That\\u2019s an error.There was an error. Please try again later.That\\u2019s all we know.\",null],\"marker\":{\"color\":\"#CFD8DC\",\"opacity\":0.5,\"size\":5},\"mode\":\"markers+text\",\"name\":\"other\",\"showlegend\":false,\"x\":[3.775134563446045,3.435636520385742,1.8160357475280762,3.6863772869110107,3.305548667907715,3.7749297618865967,3.1229615211486816,3.523677110671997,3.2674903869628906,3.9235355854034424,3.6538054943084717,1.7877575159072876,4.006840705871582,3.4743151664733887,1.760699987411499,3.792940616607666,3.95354962348938,3.39884090423584,3.303337574005127],\"y\":[11.634220123291016,11.650871276855469,8.489875793457031,11.674212455749512,11.619754791259766,11.578229904174805,11.744359970092773,11.709479331970215,11.741851806640625,11.994234085083008,11.717470169067383,8.415422439575195,11.960433006286621,11.919565200805664,8.43555736541748,11.787367820739746,11.914435386657715,11.965312957763672,11.219592094421387],\"type\":\"scattergl\"},{\"hoverinfo\":\"text\",\"hovertext\":[\"I don\\u2019t know how to feel.I don\\u2019t know why but this product didn\\u2019t do much of anything for me. My scaring didn\\u2019t fade in the slightest. In fact I had more breakouts and rashes. I don\\u2019t know if it\\u2019s an issue of it not being genuine or if it\\u2019s something else but I wasn\\u2019t a fan. Also it was small and the quantity in the tube wasn\\u2019t great either.\",\"Garnier even \\u00a3matte.I have been using the product for several months now but I still have the dark marks caused by sunburns.  Make the product more efficient so that we can genuinely appreciate it.\",\"real deal.Mattifies my oily face the whole day\",\"Not as good as it is hyped..They say it removes spots in one week. Well, that's  a lie. It's been a week now still nothing. Let's wait for a month and see.\",\"worst cream ever.Made my face rough\",\"Not so bad.Has shinny particles that I don't like\",\"made my face get even worse.Very small in quantity\",\"Dint work.Check the serum review. Vitamin c\",\"looks expired.i used it once on my face and the face turned whitish... can't give it a five star.  I think they sold me an expired item. ????\",\"not impressed.The product doesn't give results within a week as it claims and again it's little inside compared to the amount it's going for .. sometimes garnier products are filled with air and the amount inside is very little..In the second week and it's almost over\",\"doesnt work on the dark spots.Improve everything about the product or abolish it, it didn't work on me, not worth the money\",\"Bad.Gave me bad breakouts\",\"Dark spot corrector.It didn't work for me\",\"for it to be glitter free.It has too much glitters...& Not effective at all\",\"I don't like it.Don't see change in my skin,waste of money\",\"Dark spot corrector..Review after 24days of use. What's up with the quantity\\u00bf?? Why not just use a small tube then? If products quantity is little, using a big package just makes things worse. *It does nothing out of the ordinary that that the vitamin C brightening serum can't do. Yes,it is a good product but not a need for a skin care routine.\",\"Glitters.Why does the product have glitters honestly The product also gives you rashes ,,you should have indicated that as a side effect of using it ,,I'm a bit scared\",\"I don't like it.Literally burns the face.\",\"doesnt work.It doesn't work at all guys The amount is little last you for one week max Severe pimples experienced after one week use\",\"garnier even & matte dark spot corrector.It didn't remove the dark spots after using it for almost 2 month now.\",\"its not expencive.It favors my skin\",\"not great on oily skin.No results relly\",\"effectiveness of the product.Been 1 week and nothing. Improve on quantity also\",\"Mixed feelings.I haven\\u2019t finished a tube yet, but so far it\\u2019s not yet changed any dark spots\",\"needs improvement.Works well but does not remove spot completely\",\"I don't like it.Terrible mistake\",\"I feel confused about it.Not sure it will help remove dark spots ????????\",\"Overrated and expensive for nothing.It's simply overrated. Makes my face extra shiny and oily. I still have the dark spots even after using daily for over a month\",\"Too small no improvement.It was too small and I didn\\u2019t see any change\",\"be real.Its overrated,,,never cleared the spots\",\"Didn't work for me..i got pimples after applying on the 2nd day. Didn't work for me.\",\"Results.Cant see much results as expected , works slowly\",\"still need to improve.To clear all the black spots coz have used it but still no change..\",\"spots corrector.It's not working immediately as indicated..am yet to see any changes.. almost 2 wks now\",\"poor.no changes\",\"Not sure.Not so perfect because I still have dark marks. So I just use it as a moisturizer\",\"poor.Very little,,and does not fade darkspot after 1week as claimed..\",\"it dont work!!.lol, this shit dont work. i have normal skin.used it diligently everyday twice a day. no changes whatsoever. i regret this purchase.\",\"Didnt work for me.Not what I expected  Alot of white residue after application\",\"made my skin become rough.Alot of air inside the tube\",\"I don't like it.I didn't notice change.\",\"Not for me.It burns my skin, I could be allergic\",\"quantity. It is very little and my face got a little pimples and I got 2\",\"no change at all.No change at all\",\"i dont like it.it leaves glitter like residue and it broke me out\",\"Too early.Just bought yet to see any change.\",\"it did not help.Make it more effective to all types of skins\",\"Dry skin.Not for dry skin\",\"It never worked for me.I've used it for almost four weeks now and I've not seen any change on my face\",\"I don't like it.There is this shining residue that doesn't come in handy\",\"Didn't work for me.I still have spots even after using it,,,na ni hewa tu imejazwa huko ndani\",\"Garnier.Reacted on my face big time and got me the grandest skin break out had to discontinue after 2 months of consistent usage. Always felt a burning sensation upon application.\",\"clearing dark spots.It doesnt make the skin glow\",\"Garnier product.It didn't work well on my skin\",\"Overrated.Used a whole tube and my dark spots still stayed\",\"The ad isn't what it seems.The product leaves a white-pasty residue when it dries\",\"Flawless skin.Reduces dark sport marks\",\"they can add a product to prevent sun rays.Didn't work on me\",\"Leaves white residue.I don't like it ..it leaves white residue\",\"1 WEEK .The black spots don't dissappear within a week or even month honestly\",\"burning sensation .It left some burnt patches on my face\",\"rectify.It did nothing it only added more pimples to my face\",\"spot corrector.The potion is too small\",\"I dont like it.It really gave me alot of rashes with the first two days applying on my face\",null],\"marker\":{\"opacity\":0.5,\"size\":5},\"mode\":\"markers+text\",\"name\":\"Dark spot corrector effectiveness\",\"text\":[\"\",\"\",\"\",\"\",\"\",\"\",\"\",\"\",\"\",\"\",\"\",\"\",\"\",\"\",\"\",\"\",\"\",\"\",\"\",\"\",\"\",\"\",\"\",\"\",\"\",\"\",\"\",\"\",\"\",\"\",\"\",\"\",\"\",\"\",\"\",\"\",\"\",\"\",\"\",\"\",\"\",\"\",\"\",\"\",\"\",\"\",\"\",\"\",\"\",\"\",\"\",\"\",\"\",\"\",\"\",\"\",\"\",\"\",\"\",\"\",\"\",\"\",\"\",\"\",\"Dark spot corrector effectiveness\"],\"textfont\":{\"size\":12},\"x\":[4.20572566986084,1.9594554901123047,2.6840832233428955,3.5371811389923096,4.061679363250732,4.400912761688232,3.9657492637634277,2.734290599822998,3.3975958824157715,4.769990921020508,2.980729103088379,3.8379132747650146,2.7213919162750244,3.953213930130005,3.817230463027954,2.6204397678375244,4.011093616485596,4.320911884307861,3.4248225688934326,2.149959087371826,3.7195239067077637,3.3732664585113525,4.5802412033081055,4.02931547164917,2.992662191390991,5.204481601715088,2.845540761947632,3.398055076599121,3.8241660594940186,3.4705164432525635,3.349487066268921,4.6303791999816895,3.2493951320648193,2.975919246673584,3.734283208847046,2.6970601081848145,3.4679453372955322,3.484078884124756,4.3106842041015625,4.383303642272949,4.501462936401367,4.077514171600342,3.7618837356567383,3.7206876277923584,4.584974765777588,4.072100639343262,3.636510133743286,3.540787696838379,3.404942035675049,4.646716117858887,2.7322824001312256,1.816785454750061,2.796048402786255,1.895538330078125,3.2764768600463867,4.493289947509766,2.472458839416504,3.013657331466675,4.5344061851501465,3.3270630836486816,4.299000263214111,3.5979838371276855,2.8212172985076904,4.211931228637695,3.570474863052368],\"y\":[8.268852233886719,8.478567123413086,7.955782413482666,9.652544975280762,7.307777404785156,9.092618942260742,7.205012798309326,8.362920761108398,8.430204391479492,10.432039260864258,9.076322555541992,7.2131757736206055,9.460355758666992,8.047470092773438,8.219023704528809,8.523064613342285,7.974178791046143,7.882003307342529,8.168004989624023,8.783080101013184,7.785284519195557,7.773338317871094,10.505186080932617,9.488473892211914,9.764002799987793,8.993998527526855,8.910109519958496,8.875428199768066,10.366521835327148,9.415000915527344,7.71708869934082,10.530994415283203,9.789749145507812,9.799284934997559,10.424022674560547,8.37895393371582,9.752367973327637,8.061054229736328,8.868948936462402,7.434697151184082,9.388225555419922,7.693727016448975,7.150323390960693,10.474395751953125,8.644506454467773,10.198249816894531,7.810800552368164,7.600494384765625,8.203888893127441,8.728165626525879,9.389403343200684,8.42050552368164,9.091959953308105,8.34988021850586,9.121885299682617,8.891676902770996,8.258783340454102,8.472236633300781,8.803568840026855,9.732192039489746,7.462789058685303,7.320692539215088,9.811583518981934,7.821645259857178,8.718891143798828],\"type\":\"scattergl\"},{\"hoverinfo\":\"text\",\"hovertext\":[\"Received an empty product.Product had nothing inside!!! Stop scamming people.\",\"hate this.The tube is air filled. Basically empty\",\"add the volume.the content is so little\",\"soo small.Its not 30 ml maybe 10ml\",\"bad product.Can't recommend someone to buy it\",\"Mixed feelings.Good product but please work on the amount in the tubes. Tube is half empty\",\"your products are used.My product is half empty total rip off\",\"not delivered.Kindly send my package, I did not receive\",\"you're dishonest.I used it for two days and it was over\",\"Nice.I dont understand why the bottle is more of air filled than the product itself....its so deceiving until you start using it...but works well if used consistently...but one bottle I can honestly say it won't be enough\",\"Half empty.This product has been filled with air. The content inside is less than half full. I'm disappointed in you ???? not good at all. This is robbery ????????\",\"small quantity and never works smh.Be authentic about it\",\"product.It's full of air and less product yet very expensive, you can improve on that\",\"avoid the air in the tube ..sucks.Smells so nice and worked for me  The content is so little tho????\",\"order hasn't been delivered.I ordered one week ago n it hasn't been delivered\",\"Quantity was like two pinches.The lotion inside was so little ,I guess I was given a used one already!!\",\"Greatly Disappointed.The product came half full. The box was already torn. I don't get it jumia. If it's black Friday tell people if you're giving out products that are 1\\u002f4 full\",\"its average.It's average.\",\"I HATE it.The best thing inside is air . Doesn't work and the content is too little compared to the price ????????\",\"I don't like it.Product is expensive and very little inside\",\"good but its too little.At least fill up the tube I only used it for one week and it got finished.\",\"Not satisfied .Theres hardly nothing in it\\u2026. Just a tube with a wee cream\",\"Mixed feelings.Not so sure about it. Plus the product is too little.\",\"try not to tamper with peoples delivery.Am not convinced by the delivery you guys bought today someone had tempered with it????\",\"Amount.Reduce the price,,the bottle is almost empty\",\"I dont like it.Half empty\",\"too little.fill it more\",\"Not original.Turned from cream to liquid, surely!!! I had stored it in my closet not anywhere near heat or sun !\",\"Not bad.Amount paid vs quantity are a scam,the product is too little considering how expensive it is,but the product itself is good.\",\"Visible Changes.The product seems to be working but the tube is not even full not even \\u00be full.\",\"almost empty tube.Kindly the amount and the quantity do not match.not worth it\",\"poor.Not well sealed, looks like someone used it for a while\",\"too little quantity..Considering  the price, the quantity inside was tooooo little. I was disappointed.\",\"I have mixed feelings about the product.requires a lot of patience for the results to show plus I think it came less than the indicated ml because tell me why have used it for 2wks, pea size amt, actually smaller than pea size, and it is done\",\"The product was almost used up..Its like the product was being used , because I applied it twice and its over, the tube was very much empty, so disappointed\",\"I like it but it was half empty.The product was half empty\",\"Received an already used product.Really disappointed...Almost empty tube!!\",\"bad.It was half full\",\"Like it.Less effective\",\"stop posting with the box aside.You posted the product with its box aside. One may think when ordering you will get two products only to find its one and very small. This is called Misrepresentation. As how can you post a box aside. Very disappointed\",\"tube is too  small.Bigger please\",\"Just as expected ????.Increase the amount.\",\"rude.Be a little bit nice\",\"Garner dark spot corrector.The content in the product is only \\u00bc in the tube the rest is empty. This is very bad !\",\"wanting.the quantity in the tube is wanting ......full of gas\",\"Like it.But it was not even half the tube... Very little\",\"Yet to see the results.Too much air in the tube...\",\"More space than product.The product is great but there's more air than there is product in the tube which is disappointing. Needs transparent packaging\",\"terrible or fake.I don't know\",\"I don't like it.Empty empty tube\",\"its ok.Buh the content is just quarter... Almost empty nkt!\",\"I don't like it.Nothing in the tube. Jumia take time to verify your products. You can do better instead of selling air! I am really disappointed. I can't believe I purchased nothing and I tried to refund but it's not eligible. Thank you coz I now know better.\",\"Product empty.The product was empty inside\",\"Scam.There is nothing in this tube !!!\\r \\r Jumia you should be able to rate your vendors appropriately.\\r \\r I have bought on Jumia before but never been conned like this. I an totally disappointed and I guess Jumia you can do better\",\"empty tube.Only used it for 4 days and got finished.. The tube is full of air... Not worth it.\",\"I like it.The product is nice but it\\u2019s very little..  3\\u002f4 of the bottle is empty filled with air and the rest 1\\u002f4 is the product (actually less than a 1\\u002f4) I feel cheated\",\"I HATE IT.Scam!!! Why are you selling empty bottles?! The content is less than 10ml!! DON'T BUY THIS PRODUCT!!!!\",\"not good.Your tube   is just empty\",\"It wasn't sealed well,thought they were two.Still confused hoping for the best\",\"the product itself.Pack came open, this not encouraging\",\"disappoint.The tube is full of air\",\"The quantity was too little.Very little quantity compared to what\\u2019s written\",\"Almost empty.The tube is mostly air\",null],\"marker\":{\"opacity\":0.5,\"size\":5},\"mode\":\"markers+text\",\"name\":\"Product Quantity Dissatisfaction\",\"text\":[\"\",\"\",\"\",\"\",\"\",\"\",\"\",\"\",\"\",\"\",\"\",\"\",\"\",\"\",\"\",\"\",\"\",\"\",\"\",\"\",\"\",\"\",\"\",\"\",\"\",\"\",\"\",\"\",\"\",\"\",\"\",\"\",\"\",\"\",\"\",\"\",\"\",\"\",\"\",\"\",\"\",\"\",\"\",\"\",\"\",\"\",\"\",\"\",\"\",\"\",\"\",\"\",\"\",\"\",\"\",\"\",\"\",\"\",\"\",\"\",\"\",\"\",\"\",\"Product Quantity Dissatisfaction\"],\"textfont\":{\"size\":12},\"x\":[7.035830974578857,7.983281135559082,6.592687129974365,5.970609188079834,6.607670783996582,7.3820953369140625,7.142462253570557,7.164929389953613,6.949803352355957,5.809393405914307,6.827304363250732,5.674912929534912,5.853188991546631,6.001675605773926,7.110625267028809,6.884965896606445,6.678084850311279,5.9229350090026855,6.135866641998291,6.074700355529785,6.983572483062744,7.907024383544922,5.399640083312988,6.978358745574951,6.948768615722656,6.124118804931641,6.609029293060303,7.200373649597168,5.729752063751221,7.304736137390137,7.470724582672119,7.391653060913086,6.791175842285156,5.114499568939209,7.459333419799805,6.997970104217529,7.580623149871826,6.276302814483643,4.1264519691467285,6.83564567565918,7.192410469055176,6.642207622528076,6.231451988220215,2.600586175918579,7.485774040222168,7.454890727996826,7.984260082244873,5.9114861488342285,5.770441055297852,7.747103214263916,6.5792317390441895,6.450015544891357,7.363000392913818,6.468888759613037,8.097622871398926,5.910970211029053,6.316672325134277,7.915442943572998,7.377736568450928,7.323547840118408,8.109952926635742,6.654560089111328,7.922213077545166,6.707036018371582],\"y\":[9.681306838989258,11.186151504516602,11.37787914276123,10.460734367370605,9.44737720489502,11.424253463745117,9.82194709777832,9.365009307861328,9.286852836608887,10.907687187194824,10.060080528259277,10.091984748840332,11.055695533752441,10.700281143188477,9.29439926147461,10.86043643951416,9.820999145507812,11.335723876953125,10.304996490478516,10.30482292175293,11.480327606201172,11.120980262756348,10.632413864135742,9.339251518249512,10.952679634094238,9.470829963684082,11.420331954956055,10.209233283996582,11.017629623413086,11.47132682800293,11.138039588928223,9.948761940002441,10.933777809143066,10.611519813537598,10.3207426071167,9.846903800964355,10.530375480651855,9.570327758789062,11.325199127197266,9.731072425842285,11.595285415649414,11.47017765045166,9.367233276367188,9.771443367004395,11.386435508728027,11.405694007873535,11.606032371520996,11.077337265014648,9.307671546936035,11.012746810913086,11.392271995544434,10.11580753326416,9.703264236450195,10.04890251159668,11.235970497131348,10.715274810791016,10.163426399230957,11.142121315002441,9.913049697875977,9.670611381530762,11.45690631866455,11.194456100463867,11.403470039367676,10.539935111999512],\"type\":\"scattergl\"}],                        {\"template\":{\"data\":{\"barpolar\":[{\"marker\":{\"line\":{\"color\":\"white\",\"width\":0.5},\"pattern\":{\"fillmode\":\"overlay\",\"size\":10,\"solidity\":0.2}},\"type\":\"barpolar\"}],\"bar\":[{\"error_x\":{\"color\":\"rgb(36,36,36)\"},\"error_y\":{\"color\":\"rgb(36,36,36)\"},\"marker\":{\"line\":{\"color\":\"white\",\"width\":0.5},\"pattern\":{\"fillmode\":\"overlay\",\"size\":10,\"solidity\":0.2}},\"type\":\"bar\"}],\"carpet\":[{\"aaxis\":{\"endlinecolor\":\"rgb(36,36,36)\",\"gridcolor\":\"white\",\"linecolor\":\"white\",\"minorgridcolor\":\"white\",\"startlinecolor\":\"rgb(36,36,36)\"},\"baxis\":{\"endlinecolor\":\"rgb(36,36,36)\",\"gridcolor\":\"white\",\"linecolor\":\"white\",\"minorgridcolor\":\"white\",\"startlinecolor\":\"rgb(36,36,36)\"},\"type\":\"carpet\"}],\"choropleth\":[{\"colorbar\":{\"outlinewidth\":1,\"tickcolor\":\"rgb(36,36,36)\",\"ticks\":\"outside\"},\"type\":\"choropleth\"}],\"contourcarpet\":[{\"colorbar\":{\"outlinewidth\":1,\"tickcolor\":\"rgb(36,36,36)\",\"ticks\":\"outside\"},\"type\":\"contourcarpet\"}],\"contour\":[{\"colorbar\":{\"outlinewidth\":1,\"tickcolor\":\"rgb(36,36,36)\",\"ticks\":\"outside\"},\"colorscale\":[[0.0,\"#440154\"],[0.1111111111111111,\"#482878\"],[0.2222222222222222,\"#3e4989\"],[0.3333333333333333,\"#31688e\"],[0.4444444444444444,\"#26828e\"],[0.5555555555555556,\"#1f9e89\"],[0.6666666666666666,\"#35b779\"],[0.7777777777777778,\"#6ece58\"],[0.8888888888888888,\"#b5de2b\"],[1.0,\"#fde725\"]],\"type\":\"contour\"}],\"heatmapgl\":[{\"colorbar\":{\"outlinewidth\":1,\"tickcolor\":\"rgb(36,36,36)\",\"ticks\":\"outside\"},\"colorscale\":[[0.0,\"#440154\"],[0.1111111111111111,\"#482878\"],[0.2222222222222222,\"#3e4989\"],[0.3333333333333333,\"#31688e\"],[0.4444444444444444,\"#26828e\"],[0.5555555555555556,\"#1f9e89\"],[0.6666666666666666,\"#35b779\"],[0.7777777777777778,\"#6ece58\"],[0.8888888888888888,\"#b5de2b\"],[1.0,\"#fde725\"]],\"type\":\"heatmapgl\"}],\"heatmap\":[{\"colorbar\":{\"outlinewidth\":1,\"tickcolor\":\"rgb(36,36,36)\",\"ticks\":\"outside\"},\"colorscale\":[[0.0,\"#440154\"],[0.1111111111111111,\"#482878\"],[0.2222222222222222,\"#3e4989\"],[0.3333333333333333,\"#31688e\"],[0.4444444444444444,\"#26828e\"],[0.5555555555555556,\"#1f9e89\"],[0.6666666666666666,\"#35b779\"],[0.7777777777777778,\"#6ece58\"],[0.8888888888888888,\"#b5de2b\"],[1.0,\"#fde725\"]],\"type\":\"heatmap\"}],\"histogram2dcontour\":[{\"colorbar\":{\"outlinewidth\":1,\"tickcolor\":\"rgb(36,36,36)\",\"ticks\":\"outside\"},\"colorscale\":[[0.0,\"#440154\"],[0.1111111111111111,\"#482878\"],[0.2222222222222222,\"#3e4989\"],[0.3333333333333333,\"#31688e\"],[0.4444444444444444,\"#26828e\"],[0.5555555555555556,\"#1f9e89\"],[0.6666666666666666,\"#35b779\"],[0.7777777777777778,\"#6ece58\"],[0.8888888888888888,\"#b5de2b\"],[1.0,\"#fde725\"]],\"type\":\"histogram2dcontour\"}],\"histogram2d\":[{\"colorbar\":{\"outlinewidth\":1,\"tickcolor\":\"rgb(36,36,36)\",\"ticks\":\"outside\"},\"colorscale\":[[0.0,\"#440154\"],[0.1111111111111111,\"#482878\"],[0.2222222222222222,\"#3e4989\"],[0.3333333333333333,\"#31688e\"],[0.4444444444444444,\"#26828e\"],[0.5555555555555556,\"#1f9e89\"],[0.6666666666666666,\"#35b779\"],[0.7777777777777778,\"#6ece58\"],[0.8888888888888888,\"#b5de2b\"],[1.0,\"#fde725\"]],\"type\":\"histogram2d\"}],\"histogram\":[{\"marker\":{\"line\":{\"color\":\"white\",\"width\":0.6}},\"type\":\"histogram\"}],\"mesh3d\":[{\"colorbar\":{\"outlinewidth\":1,\"tickcolor\":\"rgb(36,36,36)\",\"ticks\":\"outside\"},\"type\":\"mesh3d\"}],\"parcoords\":[{\"line\":{\"colorbar\":{\"outlinewidth\":1,\"tickcolor\":\"rgb(36,36,36)\",\"ticks\":\"outside\"}},\"type\":\"parcoords\"}],\"pie\":[{\"automargin\":true,\"type\":\"pie\"}],\"scatter3d\":[{\"line\":{\"colorbar\":{\"outlinewidth\":1,\"tickcolor\":\"rgb(36,36,36)\",\"ticks\":\"outside\"}},\"marker\":{\"colorbar\":{\"outlinewidth\":1,\"tickcolor\":\"rgb(36,36,36)\",\"ticks\":\"outside\"}},\"type\":\"scatter3d\"}],\"scattercarpet\":[{\"marker\":{\"colorbar\":{\"outlinewidth\":1,\"tickcolor\":\"rgb(36,36,36)\",\"ticks\":\"outside\"}},\"type\":\"scattercarpet\"}],\"scattergeo\":[{\"marker\":{\"colorbar\":{\"outlinewidth\":1,\"tickcolor\":\"rgb(36,36,36)\",\"ticks\":\"outside\"}},\"type\":\"scattergeo\"}],\"scattergl\":[{\"marker\":{\"colorbar\":{\"outlinewidth\":1,\"tickcolor\":\"rgb(36,36,36)\",\"ticks\":\"outside\"}},\"type\":\"scattergl\"}],\"scattermapbox\":[{\"marker\":{\"colorbar\":{\"outlinewidth\":1,\"tickcolor\":\"rgb(36,36,36)\",\"ticks\":\"outside\"}},\"type\":\"scattermapbox\"}],\"scatterpolargl\":[{\"marker\":{\"colorbar\":{\"outlinewidth\":1,\"tickcolor\":\"rgb(36,36,36)\",\"ticks\":\"outside\"}},\"type\":\"scatterpolargl\"}],\"scatterpolar\":[{\"marker\":{\"colorbar\":{\"outlinewidth\":1,\"tickcolor\":\"rgb(36,36,36)\",\"ticks\":\"outside\"}},\"type\":\"scatterpolar\"}],\"scatter\":[{\"fillpattern\":{\"fillmode\":\"overlay\",\"size\":10,\"solidity\":0.2},\"type\":\"scatter\"}],\"scatterternary\":[{\"marker\":{\"colorbar\":{\"outlinewidth\":1,\"tickcolor\":\"rgb(36,36,36)\",\"ticks\":\"outside\"}},\"type\":\"scatterternary\"}],\"surface\":[{\"colorbar\":{\"outlinewidth\":1,\"tickcolor\":\"rgb(36,36,36)\",\"ticks\":\"outside\"},\"colorscale\":[[0.0,\"#440154\"],[0.1111111111111111,\"#482878\"],[0.2222222222222222,\"#3e4989\"],[0.3333333333333333,\"#31688e\"],[0.4444444444444444,\"#26828e\"],[0.5555555555555556,\"#1f9e89\"],[0.6666666666666666,\"#35b779\"],[0.7777777777777778,\"#6ece58\"],[0.8888888888888888,\"#b5de2b\"],[1.0,\"#fde725\"]],\"type\":\"surface\"}],\"table\":[{\"cells\":{\"fill\":{\"color\":\"rgb(237,237,237)\"},\"line\":{\"color\":\"white\"}},\"header\":{\"fill\":{\"color\":\"rgb(217,217,217)\"},\"line\":{\"color\":\"white\"}},\"type\":\"table\"}]},\"layout\":{\"annotationdefaults\":{\"arrowhead\":0,\"arrowwidth\":1},\"autotypenumbers\":\"strict\",\"coloraxis\":{\"colorbar\":{\"outlinewidth\":1,\"tickcolor\":\"rgb(36,36,36)\",\"ticks\":\"outside\"}},\"colorscale\":{\"diverging\":[[0.0,\"rgb(103,0,31)\"],[0.1,\"rgb(178,24,43)\"],[0.2,\"rgb(214,96,77)\"],[0.3,\"rgb(244,165,130)\"],[0.4,\"rgb(253,219,199)\"],[0.5,\"rgb(247,247,247)\"],[0.6,\"rgb(209,229,240)\"],[0.7,\"rgb(146,197,222)\"],[0.8,\"rgb(67,147,195)\"],[0.9,\"rgb(33,102,172)\"],[1.0,\"rgb(5,48,97)\"]],\"sequential\":[[0.0,\"#440154\"],[0.1111111111111111,\"#482878\"],[0.2222222222222222,\"#3e4989\"],[0.3333333333333333,\"#31688e\"],[0.4444444444444444,\"#26828e\"],[0.5555555555555556,\"#1f9e89\"],[0.6666666666666666,\"#35b779\"],[0.7777777777777778,\"#6ece58\"],[0.8888888888888888,\"#b5de2b\"],[1.0,\"#fde725\"]],\"sequentialminus\":[[0.0,\"#440154\"],[0.1111111111111111,\"#482878\"],[0.2222222222222222,\"#3e4989\"],[0.3333333333333333,\"#31688e\"],[0.4444444444444444,\"#26828e\"],[0.5555555555555556,\"#1f9e89\"],[0.6666666666666666,\"#35b779\"],[0.7777777777777778,\"#6ece58\"],[0.8888888888888888,\"#b5de2b\"],[1.0,\"#fde725\"]]},\"colorway\":[\"#1F77B4\",\"#FF7F0E\",\"#2CA02C\",\"#D62728\",\"#9467BD\",\"#8C564B\",\"#E377C2\",\"#7F7F7F\",\"#BCBD22\",\"#17BECF\"],\"font\":{\"color\":\"rgb(36,36,36)\"},\"geo\":{\"bgcolor\":\"white\",\"lakecolor\":\"white\",\"landcolor\":\"white\",\"showlakes\":true,\"showland\":true,\"subunitcolor\":\"white\"},\"hoverlabel\":{\"align\":\"left\"},\"hovermode\":\"closest\",\"mapbox\":{\"style\":\"light\"},\"paper_bgcolor\":\"white\",\"plot_bgcolor\":\"white\",\"polar\":{\"angularaxis\":{\"gridcolor\":\"rgb(232,232,232)\",\"linecolor\":\"rgb(36,36,36)\",\"showgrid\":false,\"showline\":true,\"ticks\":\"outside\"},\"bgcolor\":\"white\",\"radialaxis\":{\"gridcolor\":\"rgb(232,232,232)\",\"linecolor\":\"rgb(36,36,36)\",\"showgrid\":false,\"showline\":true,\"ticks\":\"outside\"}},\"scene\":{\"xaxis\":{\"backgroundcolor\":\"white\",\"gridcolor\":\"rgb(232,232,232)\",\"gridwidth\":2,\"linecolor\":\"rgb(36,36,36)\",\"showbackground\":true,\"showgrid\":false,\"showline\":true,\"ticks\":\"outside\",\"zeroline\":false,\"zerolinecolor\":\"rgb(36,36,36)\"},\"yaxis\":{\"backgroundcolor\":\"white\",\"gridcolor\":\"rgb(232,232,232)\",\"gridwidth\":2,\"linecolor\":\"rgb(36,36,36)\",\"showbackground\":true,\"showgrid\":false,\"showline\":true,\"ticks\":\"outside\",\"zeroline\":false,\"zerolinecolor\":\"rgb(36,36,36)\"},\"zaxis\":{\"backgroundcolor\":\"white\",\"gridcolor\":\"rgb(232,232,232)\",\"gridwidth\":2,\"linecolor\":\"rgb(36,36,36)\",\"showbackground\":true,\"showgrid\":false,\"showline\":true,\"ticks\":\"outside\",\"zeroline\":false,\"zerolinecolor\":\"rgb(36,36,36)\"}},\"shapedefaults\":{\"fillcolor\":\"black\",\"line\":{\"width\":0},\"opacity\":0.3},\"ternary\":{\"aaxis\":{\"gridcolor\":\"rgb(232,232,232)\",\"linecolor\":\"rgb(36,36,36)\",\"showgrid\":false,\"showline\":true,\"ticks\":\"outside\"},\"baxis\":{\"gridcolor\":\"rgb(232,232,232)\",\"linecolor\":\"rgb(36,36,36)\",\"showgrid\":false,\"showline\":true,\"ticks\":\"outside\"},\"bgcolor\":\"white\",\"caxis\":{\"gridcolor\":\"rgb(232,232,232)\",\"linecolor\":\"rgb(36,36,36)\",\"showgrid\":false,\"showline\":true,\"ticks\":\"outside\"}},\"title\":{\"x\":0.05},\"xaxis\":{\"automargin\":true,\"gridcolor\":\"rgb(232,232,232)\",\"linecolor\":\"rgb(36,36,36)\",\"showgrid\":false,\"showline\":true,\"ticks\":\"outside\",\"title\":{\"standoff\":15},\"zeroline\":false,\"zerolinecolor\":\"rgb(36,36,36)\"},\"yaxis\":{\"automargin\":true,\"gridcolor\":\"rgb(232,232,232)\",\"linecolor\":\"rgb(36,36,36)\",\"showgrid\":false,\"showline\":true,\"ticks\":\"outside\",\"title\":{\"standoff\":15},\"zeroline\":false,\"zerolinecolor\":\"rgb(36,36,36)\"}}},\"shapes\":[{\"line\":{\"color\":\"#CFD8DC\",\"width\":2},\"type\":\"line\",\"x0\":5.411520427465439,\"x1\":5.411520427465439,\"y0\":6.077774882316589,\"y1\":13.79336919784546},{\"line\":{\"color\":\"#9E9E9E\",\"width\":2},\"type\":\"line\",\"x0\":1.496594989299774,\"x1\":9.326445865631104,\"y0\":9.935572040081023,\"y1\":9.935572040081023}],\"annotations\":[{\"showarrow\":false,\"text\":\"D1\",\"x\":1.496594989299774,\"y\":9.935572040081023,\"yshift\":10},{\"showarrow\":false,\"text\":\"D2\",\"x\":5.411520427465439,\"xshift\":10,\"y\":13.79336919784546}],\"title\":{\"font\":{\"size\":22,\"color\":\"Black\"},\"text\":\"Garnier Dark Spot Corrector Documents & Topics\",\"x\":0.5,\"xanchor\":\"center\",\"yanchor\":\"top\"},\"width\":1200,\"height\":750,\"xaxis\":{\"visible\":false},\"yaxis\":{\"visible\":false}},                        {\"responsive\": true}                    ).then(function(){\n",
       "                            \n",
       "var gd = document.getElementById('31c1f82d-9a0d-476c-adca-adc26fb89684');\n",
       "var x = new MutationObserver(function (mutations, observer) {{\n",
       "        var display = window.getComputedStyle(gd).display;\n",
       "        if (!display || display === 'none') {{\n",
       "            console.log([gd, 'removed!']);\n",
       "            Plotly.purge(gd);\n",
       "            observer.disconnect();\n",
       "        }}\n",
       "}});\n",
       "\n",
       "// Listen for the removal of the full notebook cells\n",
       "var notebookContainer = gd.closest('#notebook-container');\n",
       "if (notebookContainer) {{\n",
       "    x.observe(notebookContainer, {childList: true});\n",
       "}}\n",
       "\n",
       "// Listen for the clearing of the current output cell\n",
       "var outputEl = gd.closest('.output');\n",
       "if (outputEl) {{\n",
       "    x.observe(outputEl, {childList: true});\n",
       "}}\n",
       "\n",
       "                        })                };                });            </script>        </div>"
      ]
     },
     "metadata": {},
     "output_type": "display_data"
    }
   ],
   "source": [
    "topic_model.visualize_documents(reviews, reduced_embeddings=reduced_embeddings, \n",
    "                                hide_document_hover=False, hide_annotations=False, custom_labels=gpt_topic_labels, title=\"Garnier Dark Spot Corrector Documents & Topics\")\n",
    "\n",
    "# Save the figure\n",
    "#fig.write_image(\"Dark-spot-corrector_negative_reviews.png\", scale=2)\n",
    "\n",
    "#fig.show()"
   ]
  },
  {
   "cell_type": "code",
   "execution_count": 64,
   "id": "173bfd86-d3a7-406e-a66a-37271bc7e770",
   "metadata": {},
   "outputs": [
    {
     "data": {
      "image/png": "[encoded data removed]",
      "text/plain": [
       "<Figure size 1200x1200 with 1 Axes>"
      ]
     },
     "metadata": {},
     "output_type": "display_data"
    }
   ],
   "source": [
    "fig_2 = topic_model.visualize_document_datamap(docs=reviews, reduced_embeddings=reduced_embeddings, custom_labels=gpt_topic_labels)\n",
    "\n",
    "fig_2.show()"
   ]
  },
  {
   "cell_type": "code",
   "execution_count": 65,
   "id": "63469363-feab-4708-b47d-81bc2e93b741",
   "metadata": {},
   "outputs": [],
   "source": [
    "tops = topic_model.get_topic_info()\n",
    "data = tops[[\"Count\", \"CustomName\"]]"
   ]
  },
  {
   "cell_type": "code",
   "execution_count": 66,
   "id": "bf186df8-3835-4724-8eb4-28e744638e2c",
   "metadata": {},
   "outputs": [
    {
     "data": {
      "image/png": "[encoded data removed]",
      "text/plain": [
       "<Figure size 800x800 with 1 Axes>"
      ]
     },
     "metadata": {},
     "output_type": "display_data"
    }
   ],
   "source": [
    "import matplotlib.pyplot as plt\n",
    "\n",
    "\n",
    "plt.figure(figsize=(8, 8))\n",
    "plt.pie(data[\"Count\"], labels=data[\"CustomName\"], autopct='%1.1f%%', startangle=140)\n",
    "\n",
    "plt.title(\"Theme Distribution for Garnier Dark Spot Corrector\")\n",
    "\n",
    "\n",
    "plt.show()\n"
   ]
  },
  {
   "cell_type": "code",
   "execution_count": null,
   "id": "b211760a-3427-4422-a756-638ec1f25043",
   "metadata": {},
   "outputs": [],
   "source": []
  }
 ],
 "metadata": {
  "kernelspec": {
   "display_name": "cuda-env",
   "language": "python",
   "name": "cuda-env"
  },
  "language_info": {
   "codemirror_mode": {
    "name": "ipython",
    "version": 3
   },
   "file_extension": ".py",
   "mimetype": "text/x-python",
   "name": "python",
   "nbconvert_exporter": "python",
   "pygments_lexer": "ipython3",
   "version": "3.12.4"
  }
 },
 "nbformat": 4,
 "nbformat_minor": 5
}
